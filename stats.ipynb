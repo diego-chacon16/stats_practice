{
 "cells": [
  {
   "cell_type": "markdown",
   "id": "da394313-7bf5-4c60-a76f-6a14cc9f236d",
   "metadata": {},
   "source": [
    "### Purpose:\n",
    "\n",
    "Using Descriptive Statistics, apply different calculations to measure insights such as:\n",
    "\n",
    "+ Countries that average the highest/lowest spending\n",
    "+ Countries above and below average\n",
    "+ Grouping coutries by percentiles\n",
    "+ More to add as the project progresses\n",
    "\n",
    "What concepts will be practiced?\n",
    "\n",
    "+ Estimates of Location\n",
    "+ Estimates of Variability\n",
    "+ Exploring Data Distribution\n",
    "+ Binary and Categorical Data"
   ]
  },
  {
   "cell_type": "code",
   "execution_count": 1,
   "id": "c9fe384f-2999-48d9-b600-3801a8f43022",
   "metadata": {},
   "outputs": [
    {
     "data": {
      "text/html": [
       "<div>\n",
       "<style scoped>\n",
       "    .dataframe tbody tr th:only-of-type {\n",
       "        vertical-align: middle;\n",
       "    }\n",
       "\n",
       "    .dataframe tbody tr th {\n",
       "        vertical-align: top;\n",
       "    }\n",
       "\n",
       "    .dataframe thead th {\n",
       "        text-align: right;\n",
       "    }\n",
       "</style>\n",
       "<table border=\"1\" class=\"dataframe\">\n",
       "  <thead>\n",
       "    <tr style=\"text-align: right;\">\n",
       "      <th></th>\n",
       "      <th>State</th>\n",
       "      <th>Population</th>\n",
       "      <th>Murder.Rate</th>\n",
       "      <th>Abbreviation</th>\n",
       "    </tr>\n",
       "  </thead>\n",
       "  <tbody>\n",
       "    <tr>\n",
       "      <th>0</th>\n",
       "      <td>Alabama</td>\n",
       "      <td>4779736</td>\n",
       "      <td>5.7</td>\n",
       "      <td>AL</td>\n",
       "    </tr>\n",
       "    <tr>\n",
       "      <th>1</th>\n",
       "      <td>Alaska</td>\n",
       "      <td>710231</td>\n",
       "      <td>5.6</td>\n",
       "      <td>AK</td>\n",
       "    </tr>\n",
       "    <tr>\n",
       "      <th>2</th>\n",
       "      <td>Arizona</td>\n",
       "      <td>6392017</td>\n",
       "      <td>4.7</td>\n",
       "      <td>AZ</td>\n",
       "    </tr>\n",
       "    <tr>\n",
       "      <th>3</th>\n",
       "      <td>Arkansas</td>\n",
       "      <td>2915918</td>\n",
       "      <td>5.6</td>\n",
       "      <td>AR</td>\n",
       "    </tr>\n",
       "    <tr>\n",
       "      <th>4</th>\n",
       "      <td>California</td>\n",
       "      <td>37253956</td>\n",
       "      <td>4.4</td>\n",
       "      <td>CA</td>\n",
       "    </tr>\n",
       "  </tbody>\n",
       "</table>\n",
       "</div>"
      ],
      "text/plain": [
       "        State  Population  Murder.Rate Abbreviation\n",
       "0     Alabama     4779736          5.7           AL\n",
       "1      Alaska      710231          5.6           AK\n",
       "2     Arizona     6392017          4.7           AZ\n",
       "3    Arkansas     2915918          5.6           AR\n",
       "4  California    37253956          4.4           CA"
      ]
     },
     "execution_count": 1,
     "metadata": {},
     "output_type": "execute_result"
    }
   ],
   "source": [
    "# importing libraries\n",
    "\n",
    "import pandas as pd\n",
    "import numpy as np\n",
    "import seaborn as sns\n",
    "import matplotlib.pyplot as plt\n",
    "\n",
    "import scipy\n",
    "from scipy import stats\n",
    "from scipy.stats import trim_mean\n",
    "from statsmodels import robust\n",
    "\n",
    "# reading in the csv\n",
    "df = pd.read_csv('data/state_csv.csv')\n",
    "df.head(5)"
   ]
  },
  {
   "cell_type": "code",
   "execution_count": 2,
   "id": "9c75e01a-e7d0-4d2a-8f5a-3a7c9bc7da75",
   "metadata": {},
   "outputs": [
    {
     "name": "stdout",
     "output_type": "stream",
     "text": [
      "<class 'pandas.core.frame.DataFrame'>\n",
      "RangeIndex: 50 entries, 0 to 49\n",
      "Data columns (total 4 columns):\n",
      " #   Column        Non-Null Count  Dtype  \n",
      "---  ------        --------------  -----  \n",
      " 0   State         50 non-null     object \n",
      " 1   Population    50 non-null     int64  \n",
      " 2   Murder.Rate   50 non-null     float64\n",
      " 3   Abbreviation  50 non-null     object \n",
      "dtypes: float64(1), int64(1), object(2)\n",
      "memory usage: 1.7+ KB\n"
     ]
    }
   ],
   "source": [
    "# understanding the dataset\n",
    "df.info()"
   ]
  },
  {
   "cell_type": "code",
   "execution_count": 3,
   "id": "22d4ae12-33a9-42c0-82f0-bd1047ab6ef6",
   "metadata": {},
   "outputs": [
    {
     "data": {
      "text/html": [
       "<div>\n",
       "<style scoped>\n",
       "    .dataframe tbody tr th:only-of-type {\n",
       "        vertical-align: middle;\n",
       "    }\n",
       "\n",
       "    .dataframe tbody tr th {\n",
       "        vertical-align: top;\n",
       "    }\n",
       "\n",
       "    .dataframe thead th {\n",
       "        text-align: right;\n",
       "    }\n",
       "</style>\n",
       "<table border=\"1\" class=\"dataframe\">\n",
       "  <thead>\n",
       "    <tr style=\"text-align: right;\">\n",
       "      <th></th>\n",
       "      <th>count</th>\n",
       "      <th>mean</th>\n",
       "      <th>std</th>\n",
       "      <th>min</th>\n",
       "      <th>25%</th>\n",
       "      <th>50%</th>\n",
       "      <th>75%</th>\n",
       "      <th>max</th>\n",
       "    </tr>\n",
       "  </thead>\n",
       "  <tbody>\n",
       "    <tr>\n",
       "      <th>Population</th>\n",
       "      <td>50.0</td>\n",
       "      <td>6162876.30</td>\n",
       "      <td>6848235.35</td>\n",
       "      <td>563626.0</td>\n",
       "      <td>1833004.25</td>\n",
       "      <td>4436369.5</td>\n",
       "      <td>6680312.25</td>\n",
       "      <td>37253956.0</td>\n",
       "    </tr>\n",
       "    <tr>\n",
       "      <th>Murder.Rate</th>\n",
       "      <td>50.0</td>\n",
       "      <td>4.07</td>\n",
       "      <td>1.92</td>\n",
       "      <td>0.9</td>\n",
       "      <td>2.42</td>\n",
       "      <td>4.0</td>\n",
       "      <td>5.55</td>\n",
       "      <td>10.3</td>\n",
       "    </tr>\n",
       "  </tbody>\n",
       "</table>\n",
       "</div>"
      ],
      "text/plain": [
       "             count        mean         std       min         25%        50%  \\\n",
       "Population    50.0  6162876.30  6848235.35  563626.0  1833004.25  4436369.5   \n",
       "Murder.Rate   50.0        4.07        1.92       0.9        2.42        4.0   \n",
       "\n",
       "                    75%         max  \n",
       "Population   6680312.25  37253956.0  \n",
       "Murder.Rate        5.55        10.3  "
      ]
     },
     "execution_count": 3,
     "metadata": {},
     "output_type": "execute_result"
    }
   ],
   "source": [
    "# rounding and transposing the basic descriptive analyics\n",
    "round(df.describe().T,2)"
   ]
  },
  {
   "cell_type": "markdown",
   "id": "2fcc7b95-34d4-4a4d-9a76-74586d3db5b4",
   "metadata": {},
   "source": [
    "## Calculating Different Estimates of Location\n",
    "\n",
    "### For the first exercise, will use the year 2016\n",
    "\n",
    "#### Mean \n",
    "+ Sum of all values divided by the number of values\n",
    "\n",
    "#### Median\n",
    "+ (50th Percentile) The value where such value of the data is above, and the other half below\n",
    "\n",
    "### Trimmed Mean\n",
    "+ The average of all values after dropping a fixed set of extreme values\n",
    "\n",
    "### Weighted Mean\n",
    "+ The sum of all values times a weight divided by the sum of the weights"
   ]
  },
  {
   "cell_type": "code",
   "execution_count": 4,
   "id": "01674225-20e7-413f-bfe4-a045d1391173",
   "metadata": {},
   "outputs": [
    {
     "data": {
      "text/html": [
       "<div>\n",
       "<style scoped>\n",
       "    .dataframe tbody tr th:only-of-type {\n",
       "        vertical-align: middle;\n",
       "    }\n",
       "\n",
       "    .dataframe tbody tr th {\n",
       "        vertical-align: top;\n",
       "    }\n",
       "\n",
       "    .dataframe thead th {\n",
       "        text-align: right;\n",
       "    }\n",
       "</style>\n",
       "<table border=\"1\" class=\"dataframe\">\n",
       "  <thead>\n",
       "    <tr style=\"text-align: right;\">\n",
       "      <th></th>\n",
       "      <th>State</th>\n",
       "      <th>Population</th>\n",
       "      <th>Murder Rate</th>\n",
       "      <th>Abbreviation</th>\n",
       "    </tr>\n",
       "  </thead>\n",
       "  <tbody>\n",
       "    <tr>\n",
       "      <th>0</th>\n",
       "      <td>Alabama</td>\n",
       "      <td>4779736</td>\n",
       "      <td>5.7</td>\n",
       "      <td>AL</td>\n",
       "    </tr>\n",
       "    <tr>\n",
       "      <th>1</th>\n",
       "      <td>Alaska</td>\n",
       "      <td>710231</td>\n",
       "      <td>5.6</td>\n",
       "      <td>AK</td>\n",
       "    </tr>\n",
       "    <tr>\n",
       "      <th>2</th>\n",
       "      <td>Arizona</td>\n",
       "      <td>6392017</td>\n",
       "      <td>4.7</td>\n",
       "      <td>AZ</td>\n",
       "    </tr>\n",
       "    <tr>\n",
       "      <th>3</th>\n",
       "      <td>Arkansas</td>\n",
       "      <td>2915918</td>\n",
       "      <td>5.6</td>\n",
       "      <td>AR</td>\n",
       "    </tr>\n",
       "    <tr>\n",
       "      <th>4</th>\n",
       "      <td>California</td>\n",
       "      <td>37253956</td>\n",
       "      <td>4.4</td>\n",
       "      <td>CA</td>\n",
       "    </tr>\n",
       "  </tbody>\n",
       "</table>\n",
       "</div>"
      ],
      "text/plain": [
       "        State  Population  Murder Rate Abbreviation\n",
       "0     Alabama     4779736          5.7           AL\n",
       "1      Alaska      710231          5.6           AK\n",
       "2     Arizona     6392017          4.7           AZ\n",
       "3    Arkansas     2915918          5.6           AR\n",
       "4  California    37253956          4.4           CA"
      ]
     },
     "execution_count": 4,
     "metadata": {},
     "output_type": "execute_result"
    }
   ],
   "source": [
    "# renaming the column Murder.Rate to Murder Rate\n",
    "df = df.rename({\"Murder.Rate\" : \"Murder Rate\"}, axis = 1)\n",
    "\n",
    "# looking at the first five columns to also ensure the renaming also worked\n",
    "df.head(5)"
   ]
  },
  {
   "cell_type": "code",
   "execution_count": 5,
   "id": "c8e8d1cb-c55c-4eff-82a4-1effd6e5beb5",
   "metadata": {},
   "outputs": [
    {
     "data": {
      "text/plain": [
       "6162876.3"
      ]
     },
     "execution_count": 5,
     "metadata": {},
     "output_type": "execute_result"
    }
   ],
   "source": [
    "# calculating the average\n",
    "mean_pop = round(df['Population'].mean(), 2)\n",
    "mean_pop"
   ]
  },
  {
   "cell_type": "code",
   "execution_count": 6,
   "id": "e06b650c-86a1-441a-8575-b06e6364365b",
   "metadata": {},
   "outputs": [
    {
     "data": {
      "text/plain": [
       "4436369.5"
      ]
     },
     "execution_count": 6,
     "metadata": {},
     "output_type": "execute_result"
    }
   ],
   "source": [
    "# calculating the median\n",
    "median_pop = round(df['Population'].median(), 2)\n",
    "median_pop"
   ]
  },
  {
   "cell_type": "code",
   "execution_count": 7,
   "id": "dcd27c41-f525-4659-8a93-cd8505e3d0df",
   "metadata": {},
   "outputs": [
    {
     "data": {
      "text/plain": [
       "4783697.12"
      ]
     },
     "execution_count": 7,
     "metadata": {},
     "output_type": "execute_result"
    }
   ],
   "source": [
    "# calculating the trimmed mean\n",
    "trim_mean_pop = round(stats.trim_mean(df['Population'], 0.1),2)\n",
    "trim_mean_pop"
   ]
  },
  {
   "cell_type": "code",
   "execution_count": 8,
   "id": "71233010-e6df-418e-8945-5c07bfe159d3",
   "metadata": {},
   "outputs": [
    {
     "data": {
      "text/plain": [
       "4783697.12"
      ]
     },
     "execution_count": 8,
     "metadata": {},
     "output_type": "execute_result"
    }
   ],
   "source": [
    "# calculating the trim mean in a different way to confirm it matches and it works\n",
    "tr_mean_2 = round(trim_mean(df['Population'], 0.1), 2)\n",
    "tr_mean_2"
   ]
  },
  {
   "cell_type": "code",
   "execution_count": 9,
   "id": "dbe84e96-e682-4e0a-9fdb-d695cc4f31c1",
   "metadata": {},
   "outputs": [
    {
     "data": {
      "text/plain": [
       "4.45"
      ]
     },
     "execution_count": 9,
     "metadata": {},
     "output_type": "execute_result"
    }
   ],
   "source": [
    "# calculating the weighted mean\n",
    "weighted_mean = round(np.average(df['Murder Rate'], weights = df['Population']),2)\n",
    "weighted_mean"
   ]
  },
  {
   "cell_type": "code",
   "execution_count": 10,
   "id": "23ae2977-d779-48b0-83de-ad4074d6830d",
   "metadata": {},
   "outputs": [
    {
     "data": {
      "text/plain": [
       "4.4"
      ]
     },
     "execution_count": 10,
     "metadata": {},
     "output_type": "execute_result"
    }
   ],
   "source": [
    "import wquantiles\n",
    "\n",
    "# calculating the weighted median\n",
    "weighted_median = round(wquantiles.median(df['Murder Rate'], weights = df['Population']), 2)\n",
    "weighted_median"
   ]
  },
  {
   "cell_type": "markdown",
   "id": "c089f7ba-5ecf-44d1-82db-ceb8a656adf9",
   "metadata": {},
   "source": [
    "## Estimates of Variability \n",
    "\n",
    "### Deviations\n",
    "+ Measure that is used to find the difference betwen the observed value and the expected value of a variable. In other words, it is the distance from the centre point\n",
    "+ Value - mean of the data\n",
    "\n",
    "### Variance \n",
    "+ The sum of squared deviatons from the mean divided by n - 1 where n is the number of data values\n",
    "+ Sum of deviations/(count of data values - 1)\n",
    "\n",
    "### Standard Deviation\n",
    "+ The Square Root of the Variance\n",
    "\n",
    "### Mean Absolute Deviation\n",
    "+ The mean of the absolute values of the deviations from the mean\n",
    "\n",
    "### Percentile\n",
    "+ The value such that P percent of the values take on this value or less (100-P) percent to take on this value or more\n",
    "\n",
    "### Interquartile Range (IQR)\n",
    "+ The difference between the 75th percentile and the 25th percentile"
   ]
  },
  {
   "cell_type": "code",
   "execution_count": 11,
   "id": "fdb7157e-ff9b-4b13-832d-2ababe280d39",
   "metadata": {},
   "outputs": [
    {
     "data": {
      "text/plain": [
       "6848235.35"
      ]
     },
     "execution_count": 11,
     "metadata": {},
     "output_type": "execute_result"
    }
   ],
   "source": [
    "# calculating the standard deviation of the population\n",
    "\n",
    "std_deviation = round(df['Population'].std(),2)\n",
    "std_deviation"
   ]
  },
  {
   "cell_type": "code",
   "execution_count": 12,
   "id": "322a51e2-c183-4194-811b-4a2e70469a60",
   "metadata": {},
   "outputs": [
    {
     "data": {
      "text/plain": [
       "4847308.0"
      ]
     },
     "execution_count": 12,
     "metadata": {},
     "output_type": "execute_result"
    }
   ],
   "source": [
    "# calculating the interquartile range of the population\n",
    "\n",
    "iqr = round(df['Population'].quantile(0.75) - df['Population'].quantile(0.25), 2)\n",
    "iqr"
   ]
  },
  {
   "cell_type": "code",
   "execution_count": 13,
   "id": "5ce75d8e-8e1b-4a61-b799-28e12bc6495f",
   "metadata": {},
   "outputs": [
    {
     "data": {
      "text/plain": [
       "4450933.36"
      ]
     },
     "execution_count": 13,
     "metadata": {},
     "output_type": "execute_result"
    }
   ],
   "source": [
    "# using numpy to find mean absolute deviation\n",
    "\n",
    "data = df['Population']\n",
    "mean = np.mean(data)\n",
    "abs_dev = np.absolute(data - mean)\n",
    "mad = round(np.mean(abs_dev), 2)\n",
    "mad"
   ]
  },
  {
   "cell_type": "code",
   "execution_count": 14,
   "id": "c2b50724-5ed2-403c-afda-83a1a6e77240",
   "metadata": {},
   "outputs": [
    {
     "data": {
      "text/plain": [
       "4450933.36"
      ]
     },
     "execution_count": 14,
     "metadata": {},
     "output_type": "execute_result"
    }
   ],
   "source": [
    "# now lets use pandas .mad() to see if we get the same answer\n",
    "\n",
    "p_mad = round(df['Population'].mad(), 2)\n",
    "p_mad"
   ]
  },
  {
   "cell_type": "markdown",
   "id": "f592785b-7114-46e3-ba6e-916d72b4ec27",
   "metadata": {},
   "source": [
    "### Percentiles"
   ]
  },
  {
   "cell_type": "code",
   "execution_count": 15,
   "id": "27830460-2a3b-4091-8119-6d064a3b18b4",
   "metadata": {},
   "outputs": [
    {
     "data": {
      "text/plain": [
       "0.05      689529.00\n",
       "0.25     1833004.25\n",
       "0.50     4436369.50\n",
       "0.75     6680312.25\n",
       "0.95    19118545.60\n",
       "Name: Population, dtype: float64"
      ]
     },
     "execution_count": 15,
     "metadata": {},
     "output_type": "execute_result"
    }
   ],
   "source": [
    "# percentiles of population by state\n",
    "\n",
    "df['Population'].quantile([0.05, 0.25, 0.5, 0.75, 0.95])"
   ]
  },
  {
   "cell_type": "code",
   "execution_count": 16,
   "id": "c419b9fe-b321-454a-aa48-75829f66cd46",
   "metadata": {},
   "outputs": [
    {
     "data": {
      "image/png": "[encoded data removed]",
      "text/plain": [
       "<Figure size 216x288 with 1 Axes>"
      ]
     },
     "metadata": {
      "needs_background": "light"
     },
     "output_type": "display_data"
    }
   ],
   "source": [
    "# creating a boxplot to visualize the distribution of population by state\n",
    "\n",
    "ax = (df['Population']/1_000_000).plot.box(figsize=(3, 4))\n",
    "ax.set_ylabel('Population (millions)')\n",
    "\n",
    "plt.tight_layout()\n",
    "plt.show();"
   ]
  },
  {
   "cell_type": "markdown",
   "id": "58d159bd-7048-4940-a9f7-20f523a37ba6",
   "metadata": {},
   "source": [
    "### Key Takeaways from the Boxplot above\n",
    "\n",
    "+ The horizontal line is the median which is close to 5 million\n",
    "+ The top and bottom half of the both are the 75th and the 25th percentile\n",
    "+ The line, also known as whiskers, at beginning at the start and ending at the top closer to 13 Million represent the range for the bulk of the data (excluding outliers)"
   ]
  },
  {
   "cell_type": "markdown",
   "id": "6d0e9ff4-5643-40f1-ae76-9cdb1c8eadf3",
   "metadata": {},
   "source": [
    "### Frequency Table and Histogram\n",
    "\n",
    "+ Divides up the variable range into equally spaced segments and tells us how many values fall within each segment\n",
    "+ The function pandas.cut() creates a series that maps the values into the segment\n",
    "+ Using the method value_counts() we can get the frequency tables"
   ]
  },
  {
   "cell_type": "code",
   "execution_count": 17,
   "id": "55b4016c-179a-40d9-957b-68edc96e42e4",
   "metadata": {},
   "outputs": [
    {
     "data": {
      "text/plain": [
       "(526935.67, 4232659.0]      24\n",
       "(4232659.0, 7901692.0]      14\n",
       "(7901692.0, 11570725.0]      6\n",
       "(11570725.0, 15239758.0]     2\n",
       "(15239758.0, 18908791.0]     1\n",
       "(18908791.0, 22577824.0]     1\n",
       "(22577824.0, 26246857.0]     1\n",
       "(33584923.0, 37253956.0]     1\n",
       "(26246857.0, 29915890.0]     0\n",
       "(29915890.0, 33584923.0]     0\n",
       "Name: Population, dtype: int64"
      ]
     },
     "execution_count": 17,
     "metadata": {},
     "output_type": "execute_result"
    }
   ],
   "source": [
    "binned_population = pd.cut(df['Population'],10)\n",
    "binned_population.value_counts()"
   ]
  },
  {
   "cell_type": "code",
   "execution_count": 18,
   "id": "de30e9e9-5cba-4173-b290-e5368753a472",
   "metadata": {},
   "outputs": [
    {
     "name": "stdout",
     "output_type": "stream",
     "text": [
      "                   BinRange  Count  \\\n",
      "0    (526935.67, 4232659.0]     24   \n",
      "1    (4232659.0, 7901692.0]     14   \n",
      "2   (7901692.0, 11570725.0]      6   \n",
      "3  (11570725.0, 15239758.0]      2   \n",
      "4  (15239758.0, 18908791.0]      1   \n",
      "5  (18908791.0, 22577824.0]      1   \n",
      "6  (22577824.0, 26246857.0]      1   \n",
      "7  (26246857.0, 29915890.0]      0   \n",
      "8  (29915890.0, 33584923.0]      0   \n",
      "9  (33584923.0, 37253956.0]      1   \n",
      "\n",
      "                                              States  \n",
      "0  WY,VT,ND,AK,SD,DE,MT,RI,NH,ME,HI,ID,NE,WV,NM,N...  \n",
      "1          KY,LA,SC,AL,CO,MN,WI,MD,MO,TN,AZ,IN,MA,WA  \n",
      "2                                  VA,NJ,NC,GA,MI,OH  \n",
      "3                                              PA,IL  \n",
      "4                                                 FL  \n",
      "5                                                 NY  \n",
      "6                                                 TX  \n",
      "7                                                     \n",
      "8                                                     \n",
      "9                                                 CA  \n"
     ]
    }
   ],
   "source": [
    "binned_population.name = 'binnedpopulation'\n",
    "df = pd.concat([df, binned_population], axis = 1)\n",
    "df = df.sort_values(by = 'Population')\n",
    "\n",
    "groups = []\n",
    "for group, subset in df.groupby(by='binnedpopulation'):\n",
    "    groups.append({\n",
    "        'BinRange': group,\n",
    "        'Count': len(subset),\n",
    "        'States': ','.join(subset.Abbreviation)\n",
    "    })\n",
    "print(pd.DataFrame(groups))"
   ]
  },
  {
   "cell_type": "markdown",
   "id": "94089c7c-b705-48a2-b324-79c73fefc9f0",
   "metadata": {},
   "source": [
    "### Takeaways\n",
    "\n",
    "+ The least populous state is Wyoming (Top Left) with 536,626 people \n",
    "+ The most populated state is California with 37,253,956 people\n",
    "+ This gives us a range of 37,253,956 - 536,626 which gives us 36,690,330 to divide into equal size bins\n",
    "\n",
    "### Next Steps\n",
    "\n",
    "+ Create a visual for the frequency table above"
   ]
  },
  {
   "cell_type": "code",
   "execution_count": 19,
   "id": "587a7cd4-db65-497b-9916-d3554a820004",
   "metadata": {},
   "outputs": [
    {
     "data": {
      "image/png": "[encoded data removed]",
      "text/plain": [
       "<Figure size 288x288 with 1 Axes>"
      ]
     },
     "metadata": {
      "needs_background": "light"
     },
     "output_type": "display_data"
    }
   ],
   "source": [
    "ax = (df['Population'] / 1_000_000).plot.hist(figsize = (4,4))\n",
    "ax.set_xlabel('Population (millions)')\n",
    "\n",
    "plt.tight_layout()\n",
    "plt.show();"
   ]
  },
  {
   "cell_type": "markdown",
   "id": "ef9cdfc1-0cd3-4a1f-9df4-9295fa6207af",
   "metadata": {},
   "source": [
    "### Density Estimates\n",
    "\n",
    "+ Shows the distribution of data values as a continous line\n",
    "+ A density plot can be thought of as a smoothed histogram\n",
    "+ Although it is typically computed directly from the data as a kernel density estimate"
   ]
  },
  {
   "cell_type": "code",
   "execution_count": 20,
   "id": "22d0f075-4f24-4b39-bb6c-e9a25c9bd0d6",
   "metadata": {},
   "outputs": [
    {
     "data": {
      "image/png": "[encoded data removed]",
      "text/plain": [
       "<Figure size 288x288 with 1 Axes>"
      ]
     },
     "metadata": {
      "needs_background": "light"
     },
     "output_type": "display_data"
    }
   ],
   "source": [
    "ax = df['Murder Rate'].plot.hist(density = True, xlim = [0,12], bins = range(1,12), figsize = (4,4))\n",
    "\n",
    "df['Murder Rate'].plot.density(ax = ax)\n",
    "ax.set_xlabel('Murder Rate (per 100,000)')\n",
    "plt.show();"
   ]
  },
  {
   "cell_type": "markdown",
   "id": "4bf967c0-3713-4572-a65d-6b73112f28cf",
   "metadata": {},
   "source": [
    "### Exploring Binary and Categorical Data\n",
    "\n",
    "+ For categorical data, simple proportions or percentages tell the story of data\n",
    "\n",
    "### Key Terms for Exploring Categorical Data\n",
    "\n",
    "+ Mode: Most commonly occurring category or value in a dataset\n",
    "+ Expected Value: When the categories are associated with a numeric value\n",
    "+ Bar Charts: The frequency or proportion for each category plotted as bars\n",
    "+ Pie Charts: The frequency or proportion for each category plotted as wedges in a pie\n",
    "\n",
    "### Next Steps\n",
    "\n",
    "+ Import airport delays per year by cause for Dallas/Fort Worth(DFW)\n",
    "+ Delays are categorized as being due to factors under:\n",
    "\n",
    "- Carrier Control\n",
    "- Air Traffic Control\n",
    "- Control (ATC) System Delays\n",
    "- Weather Security\n",
    "- Late Inbound Aircraft"
   ]
  },
  {
   "cell_type": "code",
   "execution_count": 21,
   "id": "778b3201-5ea3-46c8-ac8d-6b2eaa871c30",
   "metadata": {},
   "outputs": [],
   "source": [
    "dfw = pd.read_csv('data/airport_delays.csv')"
   ]
  },
  {
   "cell_type": "code",
   "execution_count": 22,
   "id": "404409a5-112c-40ff-a9b8-701c6a941984",
   "metadata": {},
   "outputs": [
    {
     "name": "stdout",
     "output_type": "stream",
     "text": [
      "<class 'pandas.core.frame.DataFrame'>\n",
      "RangeIndex: 1 entries, 0 to 0\n",
      "Data columns (total 5 columns):\n",
      " #   Column    Non-Null Count  Dtype  \n",
      "---  ------    --------------  -----  \n",
      " 0   Carrier   1 non-null      float64\n",
      " 1   ATC       1 non-null      float64\n",
      " 2   Weather   1 non-null      float64\n",
      " 3   Security  1 non-null      float64\n",
      " 4   Inbound   1 non-null      float64\n",
      "dtypes: float64(5)\n",
      "memory usage: 168.0 bytes\n"
     ]
    }
   ],
   "source": [
    "dfw.info()"
   ]
  },
  {
   "cell_type": "code",
   "execution_count": 23,
   "id": "79204909-148b-4ca6-abcd-a50340515d68",
   "metadata": {},
   "outputs": [
    {
     "name": "stdout",
     "output_type": "stream",
     "text": [
      "     Carrier        ATC   Weather  Security    Inbound\n",
      "0  23.022989  30.400781  4.025214  0.122937  42.428079\n"
     ]
    }
   ],
   "source": [
    "print(100 * dfw / dfw.values.sum())"
   ]
  },
  {
   "cell_type": "markdown",
   "id": "d1a026ed-2a60-4726-9a41-05289759516c",
   "metadata": {},
   "source": [
    "### Bar Charts\n",
    "\n",
    "+ Are a common visualization tool for displaying single categorical variables\n",
    "+ Categories are listed on the x-axis and frequencies or proportions on the y-axis"
   ]
  },
  {
   "cell_type": "code",
   "execution_count": 24,
   "id": "f50426e4-031f-46ca-b99c-dd8d2a579111",
   "metadata": {},
   "outputs": [
    {
     "data": {
      "image/png": "[encoded data removed]",
      "text/plain": [
       "<Figure size 288x288 with 1 Axes>"
      ]
     },
     "metadata": {
      "needs_background": "light"
     },
     "output_type": "display_data"
    }
   ],
   "source": [
    "# tranposing the table above to create a barplot\n",
    "ax = dfw.T.plot.bar(figsize=(4, 4), legend=False)\n",
    "\n",
    "# renaming the x axis to Cause of delay\n",
    "ax.set_xlabel('Cause of delay')\n",
    "\n",
    "# renaming the y axis to Cancellation Count\n",
    "ax.set_ylabel('Cancellation Count')\n",
    "\n",
    "plt.tight_layout()\n",
    "plt.show();"
   ]
  },
  {
   "cell_type": "markdown",
   "id": "27b67682-c8ff-4386-bbc2-7fe77a98b204",
   "metadata": {},
   "source": [
    "### Correlation\n",
    "\n",
    "+ The process of establishing a relationship or connection between two or more measures\n",
    "\n",
    "#### Key Terms for Correlation\n",
    "\n",
    "+ Correlation Coefficient: A matric that measures the extext to which numeric variables are associated with one another (ranges from -1 to +1)\n",
    "+ Correlation Matrix: A table where the variables are shown on both rows and columns, and the cell values are the correlations between the variables"
   ]
  },
  {
   "cell_type": "code",
   "execution_count": 25,
   "id": "188c1b3d-aada-4955-843f-83a03e14322f",
   "metadata": {},
   "outputs": [],
   "source": [
    "# reading in sp_500 data csv\n",
    "sp_data = pd.read_csv('data/sp500_data.csv', index_col = 0)\n",
    "\n",
    "# reading in sp_sectors csv\n",
    "sp_sec = pd.read_csv('data/sp500_sectors.csv')"
   ]
  },
  {
   "cell_type": "code",
   "execution_count": 26,
   "id": "b4ee3d74-e25d-4966-9aa1-0e18829354cb",
   "metadata": {},
   "outputs": [
    {
     "name": "stdout",
     "output_type": "stream",
     "text": [
      "<class 'pandas.core.frame.DataFrame'>\n",
      "Index: 5647 entries, 1993-01-29 to 2015-07-01\n",
      "Columns: 517 entries, ADS to HSIC\n",
      "dtypes: float64(517)\n",
      "memory usage: 22.3+ MB\n"
     ]
    }
   ],
   "source": [
    "# understanding the data landscape in sp_data\n",
    "sp_data.info()"
   ]
  },
  {
   "cell_type": "code",
   "execution_count": 27,
   "id": "716ad73e-4874-49d4-9a5e-79a2acaae088",
   "metadata": {},
   "outputs": [
    {
     "name": "stdout",
     "output_type": "stream",
     "text": [
      "<class 'pandas.core.frame.DataFrame'>\n",
      "RangeIndex: 517 entries, 0 to 516\n",
      "Data columns (total 4 columns):\n",
      " #   Column        Non-Null Count  Dtype \n",
      "---  ------        --------------  ----- \n",
      " 0   sector        517 non-null    object\n",
      " 1   sector_label  517 non-null    object\n",
      " 2   sub_sector    517 non-null    object\n",
      " 3   symbol        517 non-null    object\n",
      "dtypes: object(4)\n",
      "memory usage: 16.3+ KB\n"
     ]
    }
   ],
   "source": [
    "# understanding the data landscape in sp_sec\n",
    "sp_sec.info()"
   ]
  },
  {
   "cell_type": "code",
   "execution_count": 28,
   "id": "0683a494-9a5d-46f0-9332-235141fe4e8f",
   "metadata": {},
   "outputs": [
    {
     "data": {
      "text/html": [
       "<div>\n",
       "<style scoped>\n",
       "    .dataframe tbody tr th:only-of-type {\n",
       "        vertical-align: middle;\n",
       "    }\n",
       "\n",
       "    .dataframe tbody tr th {\n",
       "        vertical-align: top;\n",
       "    }\n",
       "\n",
       "    .dataframe thead th {\n",
       "        text-align: right;\n",
       "    }\n",
       "</style>\n",
       "<table border=\"1\" class=\"dataframe\">\n",
       "  <thead>\n",
       "    <tr style=\"text-align: right;\">\n",
       "      <th></th>\n",
       "      <th>ADS</th>\n",
       "      <th>CA</th>\n",
       "      <th>MSFT</th>\n",
       "      <th>RHT</th>\n",
       "      <th>CTSH</th>\n",
       "      <th>CSC</th>\n",
       "      <th>EMC</th>\n",
       "      <th>IBM</th>\n",
       "      <th>XRX</th>\n",
       "      <th>ALTR</th>\n",
       "      <th>...</th>\n",
       "      <th>WAT</th>\n",
       "      <th>ALXN</th>\n",
       "      <th>AMGN</th>\n",
       "      <th>BXLT</th>\n",
       "      <th>BIIB</th>\n",
       "      <th>CELG</th>\n",
       "      <th>GILD</th>\n",
       "      <th>REGN</th>\n",
       "      <th>VRTX</th>\n",
       "      <th>HSIC</th>\n",
       "    </tr>\n",
       "  </thead>\n",
       "  <tbody>\n",
       "    <tr>\n",
       "      <th>1993-01-29</th>\n",
       "      <td>0.0</td>\n",
       "      <td>0.060124</td>\n",
       "      <td>-0.022100</td>\n",
       "      <td>0.0</td>\n",
       "      <td>0.0</td>\n",
       "      <td>0.018897</td>\n",
       "      <td>0.007368</td>\n",
       "      <td>0.092165</td>\n",
       "      <td>0.259140</td>\n",
       "      <td>-0.007105</td>\n",
       "      <td>...</td>\n",
       "      <td>0.0</td>\n",
       "      <td>0.0</td>\n",
       "      <td>0.34716</td>\n",
       "      <td>0.0</td>\n",
       "      <td>0.04167</td>\n",
       "      <td>0.00000</td>\n",
       "      <td>0.015564</td>\n",
       "      <td>1.75</td>\n",
       "      <td>0.1250</td>\n",
       "      <td>0.0</td>\n",
       "    </tr>\n",
       "    <tr>\n",
       "      <th>1993-02-01</th>\n",
       "      <td>0.0</td>\n",
       "      <td>-0.180389</td>\n",
       "      <td>0.027621</td>\n",
       "      <td>0.0</td>\n",
       "      <td>0.0</td>\n",
       "      <td>0.018889</td>\n",
       "      <td>0.018425</td>\n",
       "      <td>0.115207</td>\n",
       "      <td>-0.100775</td>\n",
       "      <td>0.063893</td>\n",
       "      <td>...</td>\n",
       "      <td>0.0</td>\n",
       "      <td>0.0</td>\n",
       "      <td>-0.23144</td>\n",
       "      <td>0.0</td>\n",
       "      <td>0.00000</td>\n",
       "      <td>-0.01041</td>\n",
       "      <td>0.007782</td>\n",
       "      <td>1.25</td>\n",
       "      <td>0.1250</td>\n",
       "      <td>0.0</td>\n",
       "    </tr>\n",
       "    <tr>\n",
       "      <th>1993-02-02</th>\n",
       "      <td>0.0</td>\n",
       "      <td>-0.120257</td>\n",
       "      <td>0.035900</td>\n",
       "      <td>0.0</td>\n",
       "      <td>0.0</td>\n",
       "      <td>-0.075573</td>\n",
       "      <td>0.029482</td>\n",
       "      <td>-0.023041</td>\n",
       "      <td>0.028796</td>\n",
       "      <td>-0.014192</td>\n",
       "      <td>...</td>\n",
       "      <td>0.0</td>\n",
       "      <td>0.0</td>\n",
       "      <td>-0.11572</td>\n",
       "      <td>0.0</td>\n",
       "      <td>0.00000</td>\n",
       "      <td>0.00000</td>\n",
       "      <td>-0.007792</td>\n",
       "      <td>-0.25</td>\n",
       "      <td>0.0000</td>\n",
       "      <td>0.0</td>\n",
       "    </tr>\n",
       "    <tr>\n",
       "      <th>1993-02-03</th>\n",
       "      <td>0.0</td>\n",
       "      <td>0.060124</td>\n",
       "      <td>-0.024857</td>\n",
       "      <td>0.0</td>\n",
       "      <td>0.0</td>\n",
       "      <td>-0.151128</td>\n",
       "      <td>0.003689</td>\n",
       "      <td>-0.253454</td>\n",
       "      <td>-0.043190</td>\n",
       "      <td>-0.007105</td>\n",
       "      <td>...</td>\n",
       "      <td>0.0</td>\n",
       "      <td>0.0</td>\n",
       "      <td>-0.08679</td>\n",
       "      <td>0.0</td>\n",
       "      <td>0.04167</td>\n",
       "      <td>-0.04167</td>\n",
       "      <td>-0.038919</td>\n",
       "      <td>-0.50</td>\n",
       "      <td>0.0625</td>\n",
       "      <td>0.0</td>\n",
       "    </tr>\n",
       "    <tr>\n",
       "      <th>1993-02-04</th>\n",
       "      <td>0.0</td>\n",
       "      <td>-0.360770</td>\n",
       "      <td>-0.060757</td>\n",
       "      <td>0.0</td>\n",
       "      <td>0.0</td>\n",
       "      <td>0.113350</td>\n",
       "      <td>-0.022114</td>\n",
       "      <td>0.069862</td>\n",
       "      <td>0.000000</td>\n",
       "      <td>-0.007096</td>\n",
       "      <td>...</td>\n",
       "      <td>0.0</td>\n",
       "      <td>0.0</td>\n",
       "      <td>0.14465</td>\n",
       "      <td>0.0</td>\n",
       "      <td>-0.04166</td>\n",
       "      <td>-0.03126</td>\n",
       "      <td>-0.046711</td>\n",
       "      <td>0.00</td>\n",
       "      <td>0.0625</td>\n",
       "      <td>0.0</td>\n",
       "    </tr>\n",
       "  </tbody>\n",
       "</table>\n",
       "<p>5 rows × 517 columns</p>\n",
       "</div>"
      ],
      "text/plain": [
       "            ADS        CA      MSFT  RHT  CTSH       CSC       EMC       IBM  \\\n",
       "1993-01-29  0.0  0.060124 -0.022100  0.0   0.0  0.018897  0.007368  0.092165   \n",
       "1993-02-01  0.0 -0.180389  0.027621  0.0   0.0  0.018889  0.018425  0.115207   \n",
       "1993-02-02  0.0 -0.120257  0.035900  0.0   0.0 -0.075573  0.029482 -0.023041   \n",
       "1993-02-03  0.0  0.060124 -0.024857  0.0   0.0 -0.151128  0.003689 -0.253454   \n",
       "1993-02-04  0.0 -0.360770 -0.060757  0.0   0.0  0.113350 -0.022114  0.069862   \n",
       "\n",
       "                 XRX      ALTR  ...  WAT  ALXN     AMGN  BXLT     BIIB  \\\n",
       "1993-01-29  0.259140 -0.007105  ...  0.0   0.0  0.34716   0.0  0.04167   \n",
       "1993-02-01 -0.100775  0.063893  ...  0.0   0.0 -0.23144   0.0  0.00000   \n",
       "1993-02-02  0.028796 -0.014192  ...  0.0   0.0 -0.11572   0.0  0.00000   \n",
       "1993-02-03 -0.043190 -0.007105  ...  0.0   0.0 -0.08679   0.0  0.04167   \n",
       "1993-02-04  0.000000 -0.007096  ...  0.0   0.0  0.14465   0.0 -0.04166   \n",
       "\n",
       "               CELG      GILD  REGN    VRTX  HSIC  \n",
       "1993-01-29  0.00000  0.015564  1.75  0.1250   0.0  \n",
       "1993-02-01 -0.01041  0.007782  1.25  0.1250   0.0  \n",
       "1993-02-02  0.00000 -0.007792 -0.25  0.0000   0.0  \n",
       "1993-02-03 -0.04167 -0.038919 -0.50  0.0625   0.0  \n",
       "1993-02-04 -0.03126 -0.046711  0.00  0.0625   0.0  \n",
       "\n",
       "[5 rows x 517 columns]"
      ]
     },
     "execution_count": 28,
     "metadata": {},
     "output_type": "execute_result"
    }
   ],
   "source": [
    "# renaming first column from Unnamed: 0 to Date\n",
    "sp_data = sp_data.rename({\"Unnamed: 0\" : \"Date\"}, axis = 1)\n",
    "\n",
    "# switching Date to datetime\n",
    "# sp_data['Date'] = pd.to_datetime(sp_data['Date'])\n",
    "\n",
    "# looking at the first five rows of the dataset to ensure it worked\n",
    "sp_data.head(5)"
   ]
  },
  {
   "cell_type": "code",
   "execution_count": 29,
   "id": "95661b1d-ee68-4e96-b9cf-36f92564bd49",
   "metadata": {},
   "outputs": [
    {
     "data": {
      "text/html": [
       "<div>\n",
       "<style scoped>\n",
       "    .dataframe tbody tr th:only-of-type {\n",
       "        vertical-align: middle;\n",
       "    }\n",
       "\n",
       "    .dataframe tbody tr th {\n",
       "        vertical-align: top;\n",
       "    }\n",
       "\n",
       "    .dataframe thead th {\n",
       "        text-align: right;\n",
       "    }\n",
       "</style>\n",
       "<table border=\"1\" class=\"dataframe\">\n",
       "  <thead>\n",
       "    <tr style=\"text-align: right;\">\n",
       "      <th></th>\n",
       "      <th>sector</th>\n",
       "      <th>sector_label</th>\n",
       "      <th>sub_sector</th>\n",
       "      <th>symbol</th>\n",
       "    </tr>\n",
       "  </thead>\n",
       "  <tbody>\n",
       "    <tr>\n",
       "      <th>0</th>\n",
       "      <td>information_technology</td>\n",
       "      <td>Technology</td>\n",
       "      <td>data_processing_&amp;_outsourced_services</td>\n",
       "      <td>ADS</td>\n",
       "    </tr>\n",
       "    <tr>\n",
       "      <th>1</th>\n",
       "      <td>information_technology</td>\n",
       "      <td>Technology</td>\n",
       "      <td>systems_software</td>\n",
       "      <td>CA</td>\n",
       "    </tr>\n",
       "    <tr>\n",
       "      <th>2</th>\n",
       "      <td>information_technology</td>\n",
       "      <td>Technology</td>\n",
       "      <td>systems_software</td>\n",
       "      <td>MSFT</td>\n",
       "    </tr>\n",
       "    <tr>\n",
       "      <th>3</th>\n",
       "      <td>information_technology</td>\n",
       "      <td>Technology</td>\n",
       "      <td>systems_software</td>\n",
       "      <td>RHT</td>\n",
       "    </tr>\n",
       "    <tr>\n",
       "      <th>4</th>\n",
       "      <td>information_technology</td>\n",
       "      <td>Technology</td>\n",
       "      <td>it_consulting_&amp;_services</td>\n",
       "      <td>CTSH</td>\n",
       "    </tr>\n",
       "  </tbody>\n",
       "</table>\n",
       "</div>"
      ],
      "text/plain": [
       "                   sector sector_label                             sub_sector  \\\n",
       "0  information_technology   Technology  data_processing_&_outsourced_services   \n",
       "1  information_technology   Technology                       systems_software   \n",
       "2  information_technology   Technology                       systems_software   \n",
       "3  information_technology   Technology                       systems_software   \n",
       "4  information_technology   Technology               it_consulting_&_services   \n",
       "\n",
       "  symbol  \n",
       "0    ADS  \n",
       "1     CA  \n",
       "2   MSFT  \n",
       "3    RHT  \n",
       "4   CTSH  "
      ]
     },
     "execution_count": 29,
     "metadata": {},
     "output_type": "execute_result"
    }
   ],
   "source": [
    "# looking at the first five records of the sector dataset\n",
    "sp_sec.head(5)"
   ]
  },
  {
   "cell_type": "code",
   "execution_count": 30,
   "id": "ee51a6b0-1ff0-4b7e-9e39-899ba2a05b9a",
   "metadata": {},
   "outputs": [
    {
     "data": {
      "text/html": [
       "<div>\n",
       "<style scoped>\n",
       "    .dataframe tbody tr th:only-of-type {\n",
       "        vertical-align: middle;\n",
       "    }\n",
       "\n",
       "    .dataframe tbody tr th {\n",
       "        vertical-align: top;\n",
       "    }\n",
       "\n",
       "    .dataframe thead th {\n",
       "        text-align: right;\n",
       "    }\n",
       "</style>\n",
       "<table border=\"1\" class=\"dataframe\">\n",
       "  <thead>\n",
       "    <tr style=\"text-align: right;\">\n",
       "      <th></th>\n",
       "      <th>T</th>\n",
       "      <th>CTL</th>\n",
       "      <th>FTR</th>\n",
       "      <th>VZ</th>\n",
       "      <th>LVLT</th>\n",
       "    </tr>\n",
       "  </thead>\n",
       "  <tbody>\n",
       "    <tr>\n",
       "      <th>T</th>\n",
       "      <td>1.000000</td>\n",
       "      <td>0.474683</td>\n",
       "      <td>0.327767</td>\n",
       "      <td>0.677612</td>\n",
       "      <td>0.278626</td>\n",
       "    </tr>\n",
       "    <tr>\n",
       "      <th>CTL</th>\n",
       "      <td>0.474683</td>\n",
       "      <td>1.000000</td>\n",
       "      <td>0.419757</td>\n",
       "      <td>0.416604</td>\n",
       "      <td>0.286665</td>\n",
       "    </tr>\n",
       "    <tr>\n",
       "      <th>FTR</th>\n",
       "      <td>0.327767</td>\n",
       "      <td>0.419757</td>\n",
       "      <td>1.000000</td>\n",
       "      <td>0.287386</td>\n",
       "      <td>0.260068</td>\n",
       "    </tr>\n",
       "    <tr>\n",
       "      <th>VZ</th>\n",
       "      <td>0.677612</td>\n",
       "      <td>0.416604</td>\n",
       "      <td>0.287386</td>\n",
       "      <td>1.000000</td>\n",
       "      <td>0.242199</td>\n",
       "    </tr>\n",
       "    <tr>\n",
       "      <th>LVLT</th>\n",
       "      <td>0.278626</td>\n",
       "      <td>0.286665</td>\n",
       "      <td>0.260068</td>\n",
       "      <td>0.242199</td>\n",
       "      <td>1.000000</td>\n",
       "    </tr>\n",
       "  </tbody>\n",
       "</table>\n",
       "</div>"
      ],
      "text/plain": [
       "             T       CTL       FTR        VZ      LVLT\n",
       "T     1.000000  0.474683  0.327767  0.677612  0.278626\n",
       "CTL   0.474683  1.000000  0.419757  0.416604  0.286665\n",
       "FTR   0.327767  0.419757  1.000000  0.287386  0.260068\n",
       "VZ    0.677612  0.416604  0.287386  1.000000  0.242199\n",
       "LVLT  0.278626  0.286665  0.260068  0.242199  1.000000"
      ]
     },
     "execution_count": 30,
     "metadata": {},
     "output_type": "execute_result"
    }
   ],
   "source": [
    "# cgetting the symbols from the sp sector csv and storing it under the variable symbols\n",
    "symbols = sp_sec[sp_sec['sector'] == 'telecommunications_services']['symbol']\n",
    "\n",
    "# filtering the data for dates July 2012 through June 2015\n",
    "telecom = sp_data.loc[sp_data.index > '2012-07-01', symbols]\n",
    "\n",
    "# using the .corr function to build a table with correlations\n",
    "telecom.corr()"
   ]
  },
  {
   "cell_type": "code",
   "execution_count": 31,
   "id": "ba4516c6-09eb-4afb-8dc1-4c3dd0f716cc",
   "metadata": {},
   "outputs": [
    {
     "data": {
      "text/html": [
       "<div>\n",
       "<style scoped>\n",
       "    .dataframe tbody tr th:only-of-type {\n",
       "        vertical-align: middle;\n",
       "    }\n",
       "\n",
       "    .dataframe tbody tr th {\n",
       "        vertical-align: top;\n",
       "    }\n",
       "\n",
       "    .dataframe thead th {\n",
       "        text-align: right;\n",
       "    }\n",
       "</style>\n",
       "<table border=\"1\" class=\"dataframe\">\n",
       "  <thead>\n",
       "    <tr style=\"text-align: right;\">\n",
       "      <th></th>\n",
       "      <th>XLI</th>\n",
       "      <th>QQQ</th>\n",
       "      <th>SPY</th>\n",
       "      <th>DIA</th>\n",
       "      <th>GLD</th>\n",
       "      <th>VXX</th>\n",
       "      <th>USO</th>\n",
       "      <th>IWM</th>\n",
       "      <th>XLE</th>\n",
       "      <th>XLY</th>\n",
       "      <th>XLU</th>\n",
       "      <th>XLB</th>\n",
       "      <th>XTL</th>\n",
       "      <th>XLV</th>\n",
       "      <th>XLP</th>\n",
       "      <th>XLF</th>\n",
       "      <th>XLK</th>\n",
       "    </tr>\n",
       "  </thead>\n",
       "  <tbody>\n",
       "    <tr>\n",
       "      <th>2012-07-02</th>\n",
       "      <td>-0.376098</td>\n",
       "      <td>0.096313</td>\n",
       "      <td>0.028223</td>\n",
       "      <td>-0.242796</td>\n",
       "      <td>0.419998</td>\n",
       "      <td>-10.400000</td>\n",
       "      <td>0.000000</td>\n",
       "      <td>0.534641</td>\n",
       "      <td>0.028186</td>\n",
       "      <td>0.095759</td>\n",
       "      <td>0.098311</td>\n",
       "      <td>-0.093713</td>\n",
       "      <td>0.019076</td>\n",
       "      <td>-0.009529</td>\n",
       "      <td>0.313499</td>\n",
       "      <td>0.018999</td>\n",
       "      <td>0.075668</td>\n",
       "    </tr>\n",
       "    <tr>\n",
       "      <th>2012-07-03</th>\n",
       "      <td>0.376099</td>\n",
       "      <td>0.481576</td>\n",
       "      <td>0.874936</td>\n",
       "      <td>0.728405</td>\n",
       "      <td>0.490006</td>\n",
       "      <td>-3.520000</td>\n",
       "      <td>0.250000</td>\n",
       "      <td>0.926067</td>\n",
       "      <td>0.995942</td>\n",
       "      <td>0.000000</td>\n",
       "      <td>-0.044686</td>\n",
       "      <td>0.337373</td>\n",
       "      <td>0.000000</td>\n",
       "      <td>0.000000</td>\n",
       "      <td>0.129087</td>\n",
       "      <td>0.104492</td>\n",
       "      <td>0.236462</td>\n",
       "    </tr>\n",
       "    <tr>\n",
       "      <th>2012-07-05</th>\n",
       "      <td>0.150440</td>\n",
       "      <td>0.096313</td>\n",
       "      <td>-0.103487</td>\n",
       "      <td>0.149420</td>\n",
       "      <td>0.239991</td>\n",
       "      <td>6.560000</td>\n",
       "      <td>-0.070000</td>\n",
       "      <td>-0.171848</td>\n",
       "      <td>-0.460387</td>\n",
       "      <td>0.306431</td>\n",
       "      <td>-0.151938</td>\n",
       "      <td>0.103086</td>\n",
       "      <td>0.019072</td>\n",
       "      <td>-0.142955</td>\n",
       "      <td>-0.073766</td>\n",
       "      <td>-0.142490</td>\n",
       "      <td>0.066211</td>\n",
       "    </tr>\n",
       "    <tr>\n",
       "      <th>2012-07-06</th>\n",
       "      <td>-0.141040</td>\n",
       "      <td>-0.491201</td>\n",
       "      <td>0.018819</td>\n",
       "      <td>-0.205449</td>\n",
       "      <td>-0.519989</td>\n",
       "      <td>-8.800000</td>\n",
       "      <td>-0.180000</td>\n",
       "      <td>-0.229128</td>\n",
       "      <td>0.206706</td>\n",
       "      <td>0.153214</td>\n",
       "      <td>0.080437</td>\n",
       "      <td>0.018744</td>\n",
       "      <td>-0.429213</td>\n",
       "      <td>-0.095304</td>\n",
       "      <td>0.119865</td>\n",
       "      <td>0.066495</td>\n",
       "      <td>-0.227003</td>\n",
       "    </tr>\n",
       "    <tr>\n",
       "      <th>2012-07-09</th>\n",
       "      <td>0.244465</td>\n",
       "      <td>-0.048160</td>\n",
       "      <td>-0.056445</td>\n",
       "      <td>-0.168094</td>\n",
       "      <td>0.429992</td>\n",
       "      <td>-0.480000</td>\n",
       "      <td>0.459999</td>\n",
       "      <td>-0.190939</td>\n",
       "      <td>-0.234892</td>\n",
       "      <td>-0.201098</td>\n",
       "      <td>-0.035751</td>\n",
       "      <td>-0.168687</td>\n",
       "      <td>0.000000</td>\n",
       "      <td>0.352630</td>\n",
       "      <td>-0.064548</td>\n",
       "      <td>0.018999</td>\n",
       "      <td>0.009457</td>\n",
       "    </tr>\n",
       "    <tr>\n",
       "      <th>...</th>\n",
       "      <td>...</td>\n",
       "      <td>...</td>\n",
       "      <td>...</td>\n",
       "      <td>...</td>\n",
       "      <td>...</td>\n",
       "      <td>...</td>\n",
       "      <td>...</td>\n",
       "      <td>...</td>\n",
       "      <td>...</td>\n",
       "      <td>...</td>\n",
       "      <td>...</td>\n",
       "      <td>...</td>\n",
       "      <td>...</td>\n",
       "      <td>...</td>\n",
       "      <td>...</td>\n",
       "      <td>...</td>\n",
       "      <td>...</td>\n",
       "    </tr>\n",
       "    <tr>\n",
       "      <th>2015-06-25</th>\n",
       "      <td>-0.379997</td>\n",
       "      <td>-0.669998</td>\n",
       "      <td>-1.270004</td>\n",
       "      <td>-1.398679</td>\n",
       "      <td>0.010002</td>\n",
       "      <td>0.279999</td>\n",
       "      <td>-0.069999</td>\n",
       "      <td>-0.497896</td>\n",
       "      <td>-0.750000</td>\n",
       "      <td>-0.200005</td>\n",
       "      <td>-0.309997</td>\n",
       "      <td>-0.059997</td>\n",
       "      <td>-0.229999</td>\n",
       "      <td>0.189994</td>\n",
       "      <td>-0.279999</td>\n",
       "      <td>-0.220002</td>\n",
       "      <td>-0.330002</td>\n",
       "    </tr>\n",
       "    <tr>\n",
       "      <th>2015-06-26</th>\n",
       "      <td>-0.040001</td>\n",
       "      <td>-0.700004</td>\n",
       "      <td>-0.389999</td>\n",
       "      <td>-0.079926</td>\n",
       "      <td>0.360001</td>\n",
       "      <td>-0.020001</td>\n",
       "      <td>0.189999</td>\n",
       "      <td>-0.587512</td>\n",
       "      <td>0.259995</td>\n",
       "      <td>-0.010002</td>\n",
       "      <td>0.340000</td>\n",
       "      <td>-0.290001</td>\n",
       "      <td>-0.280002</td>\n",
       "      <td>-0.220001</td>\n",
       "      <td>0.029998</td>\n",
       "      <td>-0.030001</td>\n",
       "      <td>-0.330002</td>\n",
       "    </tr>\n",
       "    <tr>\n",
       "      <th>2015-06-29</th>\n",
       "      <td>-0.590000</td>\n",
       "      <td>-1.320000</td>\n",
       "      <td>-2.580002</td>\n",
       "      <td>-1.918189</td>\n",
       "      <td>0.260002</td>\n",
       "      <td>1.829999</td>\n",
       "      <td>-0.080000</td>\n",
       "      <td>-2.280327</td>\n",
       "      <td>-0.500000</td>\n",
       "      <td>-1.089996</td>\n",
       "      <td>-0.160000</td>\n",
       "      <td>-0.769996</td>\n",
       "      <td>-0.700001</td>\n",
       "      <td>-1.180000</td>\n",
       "      <td>-0.500000</td>\n",
       "      <td>-0.330000</td>\n",
       "      <td>-0.450000</td>\n",
       "    </tr>\n",
       "    <tr>\n",
       "      <th>2015-06-30</th>\n",
       "      <td>-0.480000</td>\n",
       "      <td>-0.419998</td>\n",
       "      <td>-1.369996</td>\n",
       "      <td>-1.168887</td>\n",
       "      <td>0.130005</td>\n",
       "      <td>0.889999</td>\n",
       "      <td>0.139999</td>\n",
       "      <td>-0.338568</td>\n",
       "      <td>-0.169998</td>\n",
       "      <td>-0.430001</td>\n",
       "      <td>-0.310001</td>\n",
       "      <td>-0.270001</td>\n",
       "      <td>0.259999</td>\n",
       "      <td>-0.510002</td>\n",
       "      <td>-0.580002</td>\n",
       "      <td>-0.150002</td>\n",
       "      <td>-0.269996</td>\n",
       "    </tr>\n",
       "    <tr>\n",
       "      <th>2015-07-01</th>\n",
       "      <td>-0.269996</td>\n",
       "      <td>-0.279999</td>\n",
       "      <td>-0.159989</td>\n",
       "      <td>-0.169852</td>\n",
       "      <td>-0.140000</td>\n",
       "      <td>-0.309999</td>\n",
       "      <td>-0.440001</td>\n",
       "      <td>-0.537713</td>\n",
       "      <td>-1.110001</td>\n",
       "      <td>0.220001</td>\n",
       "      <td>0.200001</td>\n",
       "      <td>-0.219997</td>\n",
       "      <td>-1.029998</td>\n",
       "      <td>0.029998</td>\n",
       "      <td>0.290001</td>\n",
       "      <td>-0.010000</td>\n",
       "      <td>-0.090000</td>\n",
       "    </tr>\n",
       "  </tbody>\n",
       "</table>\n",
       "<p>754 rows × 17 columns</p>\n",
       "</div>"
      ],
      "text/plain": [
       "                 XLI       QQQ       SPY       DIA       GLD        VXX  \\\n",
       "2012-07-02 -0.376098  0.096313  0.028223 -0.242796  0.419998 -10.400000   \n",
       "2012-07-03  0.376099  0.481576  0.874936  0.728405  0.490006  -3.520000   \n",
       "2012-07-05  0.150440  0.096313 -0.103487  0.149420  0.239991   6.560000   \n",
       "2012-07-06 -0.141040 -0.491201  0.018819 -0.205449 -0.519989  -8.800000   \n",
       "2012-07-09  0.244465 -0.048160 -0.056445 -0.168094  0.429992  -0.480000   \n",
       "...              ...       ...       ...       ...       ...        ...   \n",
       "2015-06-25 -0.379997 -0.669998 -1.270004 -1.398679  0.010002   0.279999   \n",
       "2015-06-26 -0.040001 -0.700004 -0.389999 -0.079926  0.360001  -0.020001   \n",
       "2015-06-29 -0.590000 -1.320000 -2.580002 -1.918189  0.260002   1.829999   \n",
       "2015-06-30 -0.480000 -0.419998 -1.369996 -1.168887  0.130005   0.889999   \n",
       "2015-07-01 -0.269996 -0.279999 -0.159989 -0.169852 -0.140000  -0.309999   \n",
       "\n",
       "                 USO       IWM       XLE       XLY       XLU       XLB  \\\n",
       "2012-07-02  0.000000  0.534641  0.028186  0.095759  0.098311 -0.093713   \n",
       "2012-07-03  0.250000  0.926067  0.995942  0.000000 -0.044686  0.337373   \n",
       "2012-07-05 -0.070000 -0.171848 -0.460387  0.306431 -0.151938  0.103086   \n",
       "2012-07-06 -0.180000 -0.229128  0.206706  0.153214  0.080437  0.018744   \n",
       "2012-07-09  0.459999 -0.190939 -0.234892 -0.201098 -0.035751 -0.168687   \n",
       "...              ...       ...       ...       ...       ...       ...   \n",
       "2015-06-25 -0.069999 -0.497896 -0.750000 -0.200005 -0.309997 -0.059997   \n",
       "2015-06-26  0.189999 -0.587512  0.259995 -0.010002  0.340000 -0.290001   \n",
       "2015-06-29 -0.080000 -2.280327 -0.500000 -1.089996 -0.160000 -0.769996   \n",
       "2015-06-30  0.139999 -0.338568 -0.169998 -0.430001 -0.310001 -0.270001   \n",
       "2015-07-01 -0.440001 -0.537713 -1.110001  0.220001  0.200001 -0.219997   \n",
       "\n",
       "                 XTL       XLV       XLP       XLF       XLK  \n",
       "2012-07-02  0.019076 -0.009529  0.313499  0.018999  0.075668  \n",
       "2012-07-03  0.000000  0.000000  0.129087  0.104492  0.236462  \n",
       "2012-07-05  0.019072 -0.142955 -0.073766 -0.142490  0.066211  \n",
       "2012-07-06 -0.429213 -0.095304  0.119865  0.066495 -0.227003  \n",
       "2012-07-09  0.000000  0.352630 -0.064548  0.018999  0.009457  \n",
       "...              ...       ...       ...       ...       ...  \n",
       "2015-06-25 -0.229999  0.189994 -0.279999 -0.220002 -0.330002  \n",
       "2015-06-26 -0.280002 -0.220001  0.029998 -0.030001 -0.330002  \n",
       "2015-06-29 -0.700001 -1.180000 -0.500000 -0.330000 -0.450000  \n",
       "2015-06-30  0.259999 -0.510002 -0.580002 -0.150002 -0.269996  \n",
       "2015-07-01 -1.029998  0.029998  0.290001 -0.010000 -0.090000  \n",
       "\n",
       "[754 rows x 17 columns]"
      ]
     },
     "execution_count": 31,
     "metadata": {},
     "output_type": "execute_result"
    }
   ],
   "source": [
    "# now we turn our attention to the etf sector following the same steps from the table above\n",
    "etfs = sp_data.loc[sp_data.index > '2012-07-01', sp_sec[sp_sec['sector'] == 'etf']['symbol']]\n",
    "\n",
    "# looking at the table to ensure the data looks good\n",
    "etfs"
   ]
  },
  {
   "cell_type": "markdown",
   "id": "69df5bfa-91a6-4474-8b74-b042db54571a",
   "metadata": {},
   "source": [
    "### Creating a visual for the table above\n",
    "\n",
    "+ The table above contains a lot of rows and a lot of numbers\n",
    "+ Digesting this information in the format above can be challenging for visual learners like myself\n",
    "+ Using Seaborn and Matplotlib, build a heatmap to display correlations in an easier to read format"
   ]
  },
  {
   "cell_type": "code",
   "execution_count": 32,
   "id": "59c45ae9-a4ee-43f2-8ce8-7019a0cfe2c3",
   "metadata": {},
   "outputs": [
    {
     "data": {
      "image/png": "[encoded data removed]",
      "text/plain": [
       "<Figure size 360x288 with 2 Axes>"
      ]
     },
     "metadata": {
      "needs_background": "light"
     },
     "output_type": "display_data"
    }
   ],
   "source": [
    "fig, ax = plt.subplots(figsize=(5,4))\n",
    "\n",
    "# creating the heatmap using seaborn\n",
    "ax = sns.heatmap(etfs.corr(), vmin = -1, vmax = 1, cmap = sns.diverging_palette(20, 220, as_cmap = True), ax = ax)\n",
    "plt.tight_layout()\n",
    "plt.show();"
   ]
  },
  {
   "cell_type": "code",
   "execution_count": 33,
   "id": "39e5de09-fd8b-419b-8fff-61ab041c1813",
   "metadata": {},
   "outputs": [
    {
     "data": {
      "image/png": "[encoded data removed]",
      "text/plain": [
       "<Figure size 360x288 with 2 Axes>"
      ]
     },
     "metadata": {
      "needs_background": "light"
     },
     "output_type": "display_data"
    }
   ],
   "source": [
    "from matplotlib.collections import EllipseCollection\n",
    "from matplotlib.colors import Normalize\n",
    "\n",
    "def plot_corr_ellipses(data, figsize=None, **kwargs):\n",
    "    ''' https://stackoverflow.com/a/34558488 '''\n",
    "    M = np.array(data)\n",
    "    if not M.ndim == 2:\n",
    "        raise ValueError('data must be a 2D array')\n",
    "    fig, ax = plt.subplots(1, 1, figsize=figsize, subplot_kw={'aspect':'equal'})\n",
    "    ax.set_xlim(-0.5, M.shape[1] - 0.5)\n",
    "    ax.set_ylim(-0.5, M.shape[0] - 0.5)\n",
    "    ax.invert_yaxis()\n",
    "\n",
    "    # xy locations of each ellipse center\n",
    "    xy = np.indices(M.shape)[::-1].reshape(2, -1).T\n",
    "\n",
    "    # set the relative sizes of the major/minor axes according to the strength of\n",
    "    # the positive/negative correlation\n",
    "    w = np.ones_like(M).ravel() + 0.01\n",
    "    h = 1 - np.abs(M).ravel() - 0.01\n",
    "    a = 45 * np.sign(M).ravel()\n",
    "\n",
    "    ec = EllipseCollection(widths=w, heights=h, angles=a, units='x', offsets=xy,\n",
    "                           norm=Normalize(vmin=-1, vmax=1),\n",
    "                           transOffset=ax.transData, array=M.ravel(), **kwargs)\n",
    "    ax.add_collection(ec)\n",
    "\n",
    "    # if data is a DataFrame, use the row/column names as tick labels\n",
    "    if isinstance(data, pd.DataFrame):\n",
    "        ax.set_xticks(np.arange(M.shape[1]))\n",
    "        ax.set_xticklabels(data.columns, rotation=90)\n",
    "        ax.set_yticks(np.arange(M.shape[0]))\n",
    "        ax.set_yticklabels(data.index)\n",
    "\n",
    "    return ec, ax\n",
    "\n",
    "m, ax = plot_corr_ellipses(etfs.corr(), figsize=(5, 4), cmap='bwr_r')\n",
    "cb = fig.colorbar(m, ax=ax)\n",
    "cb.set_label('Correlation coefficient')\n",
    "\n",
    "plt.tight_layout()\n",
    "plt.show()"
   ]
  },
  {
   "cell_type": "markdown",
   "id": "6a319336-7814-4ada-b8cd-39f3917a04ba",
   "metadata": {},
   "source": [
    "### Scatterplots\n",
    "\n",
    "+ Standard way to visualize between two measured data variables\n",
    "+ The X-axis represents oe variable and the Y-axis another\n",
    "+ The example below shows the correlation between the daily returns for ATT and Verizon"
   ]
  },
  {
   "cell_type": "code",
   "execution_count": 40,
   "id": "2bbaea55-4072-46cc-9de5-fbf972d3643f",
   "metadata": {},
   "outputs": [
    {
     "data": {
      "image/png": "[encoded data removed]",
      "text/plain": [
       "<Figure size 288x288 with 1 Axes>"
      ]
     },
     "metadata": {
      "needs_background": "light"
     },
     "output_type": "display_data"
    }
   ],
   "source": [
    "# create a scatter plot using the 'T' column for the x-axis and the 'VZ' column for the y-axis\n",
    "ax = telecom.plot.scatter(x='T', y='VZ', figsize=(4, 4), marker='$\\u25EF$')\n",
    "\n",
    "# set the x-axis label\n",
    "ax.set_xlabel('ATT (T)')\n",
    "\n",
    "# set the y-axis labe\n",
    "ax.set_ylabel('Verizon (VZ)')\n",
    "\n",
    "# add a horizontal line at y=0 in grey with a linewidth of 1\n",
    "ax.axhline(0, color='grey', lw=1)\n",
    "\n",
    "# add a vertical line at x=0 in grey with a linewidth of 1\n",
    "ax.axvline(0, color='grey', lw=1)\n",
    "\n",
    "# adjust the plot layout to ensure all plot elements fit within the figure\n",
    "plt.tight_layout()\n",
    "\n",
    "# display the plot\n",
    "plt.show()"
   ]
  },
  {
   "cell_type": "code",
   "execution_count": null,
   "id": "fae01047-7f7b-4586-9ba7-a521f630822d",
   "metadata": {},
   "outputs": [],
   "source": []
  },
  {
   "cell_type": "code",
   "execution_count": null,
   "id": "73bbd82a-6d26-4f1b-a242-7a04ae820753",
   "metadata": {},
   "outputs": [],
   "source": []
  },
  {
   "cell_type": "code",
   "execution_count": null,
   "id": "8857026b-e2e3-4a74-b582-d9bf917d1de0",
   "metadata": {},
   "outputs": [],
   "source": []
  }
 ],
 "metadata": {
  "kernelspec": {
   "display_name": "Python 3",
   "language": "python",
   "name": "python3"
  },
  "language_info": {
   "codemirror_mode": {
    "name": "ipython",
    "version": 3
   },
   "file_extension": ".py",
   "mimetype": "text/x-python",
   "name": "python",
   "nbconvert_exporter": "python",
   "pygments_lexer": "ipython3",
   "version": "3.8.8"
  }
 },
 "nbformat": 4,
 "nbformat_minor": 5
}
