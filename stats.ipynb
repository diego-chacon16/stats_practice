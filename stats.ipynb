{
 "cells": [
  {
   "cell_type": "markdown",
   "id": "da394313-7bf5-4c60-a76f-6a14cc9f236d",
   "metadata": {},
   "source": [
    "### Purpose:\n",
    "\n",
    "Using Descriptive Statistics, apply different calculations to measure insights such as:\n",
    "\n",
    "+ Countries that average the highest/lowest spending\n",
    "+ Countries above and below average\n",
    "+ Grouping coutries by percentiles\n",
    "+ More to add as the project progresses\n",
    "\n",
    "What concepts will be practiced?\n",
    "\n",
    "+ Estimates of Location\n",
    "+ Estimates of Variability\n",
    "+ Exploring Data Distribution\n",
    "+ Binary and Categorical Data"
   ]
  },
  {
   "cell_type": "code",
   "execution_count": null,
   "id": "c9fe384f-2999-48d9-b600-3801a8f43022",
   "metadata": {},
   "outputs": [],
   "source": [
    "# importing libraries\n",
    "\n",
    "import pandas as pd\n",
    "import numpy as np\n",
    "import seaborn as sns\n",
    "import matplotlib.pyplot as plt\n",
    "\n",
    "import scipy\n",
    "from scipy import stats\n",
    "from scipy.stats import trim_mean\n",
    "from statsmodels import robust\n",
    "\n",
    "# reading in the csv\n",
    "df = pd.read_csv('data/state_csv.csv')\n",
    "df.head(5)"
   ]
  },
  {
   "cell_type": "code",
   "execution_count": null,
   "id": "9c75e01a-e7d0-4d2a-8f5a-3a7c9bc7da75",
   "metadata": {},
   "outputs": [],
   "source": [
    "# understanding the dataset\n",
    "df.info()"
   ]
  },
  {
   "cell_type": "code",
   "execution_count": null,
   "id": "22d4ae12-33a9-42c0-82f0-bd1047ab6ef6",
   "metadata": {},
   "outputs": [],
   "source": [
    "# rounding and transposing the basic descriptive analyics\n",
    "round(df.describe().T,2)"
   ]
  },
  {
   "cell_type": "markdown",
   "id": "2fcc7b95-34d4-4a4d-9a76-74586d3db5b4",
   "metadata": {},
   "source": [
    "## Calculating Different Estimates of Location\n",
    "\n",
    "### For the first exercise, will use the year 2016\n",
    "\n",
    "#### Mean \n",
    "+ Sum of all values divided by the number of values\n",
    "\n",
    "#### Median\n",
    "+ (50th Percentile) The value where such value of the data is above, and the other half below\n",
    "\n",
    "### Trimmed Mean\n",
    "+ The average of all values after dropping a fixed set of extreme values\n",
    "\n",
    "### Weighted Mean\n",
    "+ The sum of all values times a weight divided by the sum of the weights"
   ]
  },
  {
   "cell_type": "code",
   "execution_count": null,
   "id": "01674225-20e7-413f-bfe4-a045d1391173",
   "metadata": {},
   "outputs": [],
   "source": [
    "# renaming the column Murder.Rate to Murder Rate\n",
    "df = df.rename({\"Murder.Rate\" : \"Murder Rate\"}, axis = 1)\n",
    "\n",
    "# looking at the first five columns to also ensure the renaming also worked\n",
    "df.head(5)"
   ]
  },
  {
   "cell_type": "code",
   "execution_count": null,
   "id": "c8e8d1cb-c55c-4eff-82a4-1effd6e5beb5",
   "metadata": {},
   "outputs": [],
   "source": [
    "# calculating the average\n",
    "mean_pop = round(df['Population'].mean(), 2)\n",
    "mean_pop"
   ]
  },
  {
   "cell_type": "code",
   "execution_count": null,
   "id": "e06b650c-86a1-441a-8575-b06e6364365b",
   "metadata": {},
   "outputs": [],
   "source": [
    "# calculating the median\n",
    "median_pop = round(df['Population'].median(), 2)\n",
    "median_pop"
   ]
  },
  {
   "cell_type": "code",
   "execution_count": null,
   "id": "dcd27c41-f525-4659-8a93-cd8505e3d0df",
   "metadata": {},
   "outputs": [],
   "source": [
    "# calculating the trimmed mean\n",
    "trim_mean_pop = round(stats.trim_mean(df['Population'], 0.1),2)\n",
    "trim_mean_pop"
   ]
  },
  {
   "cell_type": "code",
   "execution_count": null,
   "id": "71233010-e6df-418e-8945-5c07bfe159d3",
   "metadata": {},
   "outputs": [],
   "source": [
    "# calculating the trim mean in a different way to confirm it matches and it works\n",
    "tr_mean_2 = round(trim_mean(df['Population'], 0.1), 2)\n",
    "tr_mean_2"
   ]
  },
  {
   "cell_type": "code",
   "execution_count": null,
   "id": "dbe84e96-e682-4e0a-9fdb-d695cc4f31c1",
   "metadata": {},
   "outputs": [],
   "source": [
    "# calculating the weighted mean\n",
    "weighted_mean = round(np.average(df['Murder Rate'], weights = df['Population']),2)\n",
    "weighted_mean"
   ]
  },
  {
   "cell_type": "code",
   "execution_count": null,
   "id": "23ae2977-d779-48b0-83de-ad4074d6830d",
   "metadata": {},
   "outputs": [],
   "source": [
    "import wquantiles\n",
    "\n",
    "# calculating the weighted median\n",
    "weighted_median = round(wquantiles.median(df['Murder Rate'], weights = df['Population']), 2)\n",
    "weighted_median"
   ]
  },
  {
   "cell_type": "markdown",
   "id": "c089f7ba-5ecf-44d1-82db-ceb8a656adf9",
   "metadata": {},
   "source": [
    "## Estimates of Variability \n",
    "\n",
    "### Deviations\n",
    "+ Measure that is used to find the difference betwen the observed value and the expected value of a variable. In other words, it is the distance from the centre point\n",
    "+ Value - mean of the data\n",
    "\n",
    "### Variance \n",
    "+ The sum of squared deviatons from the mean divided by n - 1 where n is the number of data values\n",
    "+ Sum of deviations/(count of data values - 1)\n",
    "\n",
    "### Standard Deviation\n",
    "+ The Square Root of the Variance\n",
    "\n",
    "### Mean Absolute Deviation\n",
    "+ The mean of the absolute values of the deviations from the mean\n",
    "\n",
    "### Percentile\n",
    "+ The value such that P percent of the values take on this value or less (100-P) percent to take on this value or more\n",
    "\n",
    "### Interquartile Range (IQR)\n",
    "+ The difference between the 75th percentile and the 25th percentile"
   ]
  },
  {
   "cell_type": "code",
   "execution_count": null,
   "id": "fdb7157e-ff9b-4b13-832d-2ababe280d39",
   "metadata": {},
   "outputs": [],
   "source": [
    "# calculating the standard deviation of the population\n",
    "\n",
    "std_deviation = round(df['Population'].std(),2)\n",
    "std_deviation"
   ]
  },
  {
   "cell_type": "code",
   "execution_count": null,
   "id": "322a51e2-c183-4194-811b-4a2e70469a60",
   "metadata": {},
   "outputs": [],
   "source": [
    "# calculating the interquartile range of the population\n",
    "\n",
    "iqr = round(df['Population'].quantile(0.75) - df['Population'].quantile(0.25), 2)\n",
    "iqr"
   ]
  },
  {
   "cell_type": "code",
   "execution_count": null,
   "id": "5ce75d8e-8e1b-4a61-b799-28e12bc6495f",
   "metadata": {},
   "outputs": [],
   "source": [
    "# using numpy to find mean absolute deviation\n",
    "\n",
    "data = df['Population']\n",
    "mean = np.mean(data)\n",
    "abs_dev = np.absolute(data - mean)\n",
    "mad = round(np.mean(abs_dev), 2)\n",
    "mad"
   ]
  },
  {
   "cell_type": "code",
   "execution_count": null,
   "id": "c2b50724-5ed2-403c-afda-83a1a6e77240",
   "metadata": {},
   "outputs": [],
   "source": [
    "# now lets use pandas .mad() to see if we get the same answer\n",
    "\n",
    "p_mad = round(df['Population'].mad(), 2)\n",
    "p_mad"
   ]
  },
  {
   "cell_type": "markdown",
   "id": "f592785b-7114-46e3-ba6e-916d72b4ec27",
   "metadata": {},
   "source": [
    "### Percentiles"
   ]
  },
  {
   "cell_type": "code",
   "execution_count": null,
   "id": "27830460-2a3b-4091-8119-6d064a3b18b4",
   "metadata": {},
   "outputs": [],
   "source": [
    "# percentiles of population by state\n",
    "\n",
    "df['Population'].quantile([0.05, 0.25, 0.5, 0.75, 0.95])"
   ]
  },
  {
   "cell_type": "code",
   "execution_count": null,
   "id": "c419b9fe-b321-454a-aa48-75829f66cd46",
   "metadata": {},
   "outputs": [],
   "source": [
    "# creating a boxplot to visualize the distribution of population by state\n",
    "\n",
    "ax = (df['Population']/1_000_000).plot.box(figsize=(3, 4))\n",
    "ax.set_ylabel('Population (millions)')\n",
    "\n",
    "plt.tight_layout()\n",
    "plt.show();"
   ]
  },
  {
   "cell_type": "markdown",
   "id": "58d159bd-7048-4940-a9f7-20f523a37ba6",
   "metadata": {},
   "source": [
    "### Key Takeaways from the Boxplot above\n",
    "\n",
    "+ The horizontal line is the median which is close to 5 million\n",
    "+ The top and bottom half of the both are the 75th and the 25th percentile\n",
    "+ The line, also known as whiskers, at beginning at the start and ending at the top closer to 13 Million represent the range for the bulk of the data (excluding outliers)"
   ]
  },
  {
   "cell_type": "markdown",
   "id": "6d0e9ff4-5643-40f1-ae76-9cdb1c8eadf3",
   "metadata": {},
   "source": [
    "### Frequency Table and Histogram\n",
    "\n",
    "+ Divides up the variable range into equally spaced segments and tells us how many values fall within each segment\n",
    "+ The function pandas.cut() creates a series that maps the values into the segment\n",
    "+ Using the method value_counts() we can get the frequency tables"
   ]
  },
  {
   "cell_type": "code",
   "execution_count": null,
   "id": "55b4016c-179a-40d9-957b-68edc96e42e4",
   "metadata": {},
   "outputs": [],
   "source": [
    "binned_population = pd.cut(df['Population'],10)\n",
    "binned_population.value_counts()"
   ]
  },
  {
   "cell_type": "code",
   "execution_count": null,
   "id": "de30e9e9-5cba-4173-b290-e5368753a472",
   "metadata": {},
   "outputs": [],
   "source": [
    "binned_population.name = 'binnedpopulation'\n",
    "df = pd.concat([df, binned_population], axis = 1)\n",
    "df = df.sort_values(by = 'Population')\n",
    "\n",
    "groups = []\n",
    "for group, subset in df.groupby(by='binnedpopulation'):\n",
    "    groups.append({\n",
    "        'BinRange': group,\n",
    "        'Count': len(subset),\n",
    "        'States': ','.join(subset.Abbreviation)\n",
    "    })\n",
    "print(pd.DataFrame(groups))"
   ]
  },
  {
   "cell_type": "markdown",
   "id": "94089c7c-b705-48a2-b324-79c73fefc9f0",
   "metadata": {},
   "source": [
    "### Takeaways\n",
    "\n",
    "+ The least populous state is Wyoming (Top Left) with 536,626 people \n",
    "+ The most populated state is California with 37,253,956 people\n",
    "+ This gives us a range of 37,253,956 - 536,626 which gives us 36,690,330 to divide into equal size bins\n",
    "\n",
    "### Next Steps\n",
    "\n",
    "+ Create a visual for the frequency table above"
   ]
  },
  {
   "cell_type": "code",
   "execution_count": null,
   "id": "587a7cd4-db65-497b-9916-d3554a820004",
   "metadata": {},
   "outputs": [],
   "source": [
    "ax = (df['Population'] / 1_000_000).plot.hist(figsize = (4,4))\n",
    "ax.set_xlabel('Population (millions)')\n",
    "\n",
    "plt.tight_layout()\n",
    "plt.show();"
   ]
  },
  {
   "cell_type": "markdown",
   "id": "ef9cdfc1-0cd3-4a1f-9df4-9295fa6207af",
   "metadata": {},
   "source": [
    "### Density Estimates\n",
    "\n",
    "+ Shows the distribution of data values as a continous line\n",
    "+ A density plot can be thought of as a smoothed histogram\n",
    "+ Although it is typically computed directly from the data as a kernel density estimate"
   ]
  },
  {
   "cell_type": "code",
   "execution_count": null,
   "id": "22d0f075-4f24-4b39-bb6c-e9a25c9bd0d6",
   "metadata": {},
   "outputs": [],
   "source": [
    "ax = df['Murder Rate'].plot.hist(density = True, xlim = [0,12], bins = range(1,12), figsize = (4,4))\n",
    "\n",
    "df['Murder Rate'].plot.density(ax = ax)\n",
    "ax.set_xlabel('Murder Rate (per 100,000)')\n",
    "plt.show();"
   ]
  },
  {
   "cell_type": "markdown",
   "id": "4bf967c0-3713-4572-a65d-6b73112f28cf",
   "metadata": {},
   "source": [
    "### Exploring Binary and Categorical Data\n",
    "\n",
    "+ For categorical data, simple proportions or percentages tell the story of data\n",
    "\n",
    "### Key Terms for Exploring Categorical Data\n",
    "\n",
    "+ Mode: Most commonly occurring category or value in a dataset\n",
    "+ Expected Value: When the categories are associated with a numeric value\n",
    "+ Bar Charts: The frequency or proportion for each category plotted as bars\n",
    "+ Pie Charts: The frequency or proportion for each category plotted as wedges in a pie\n",
    "\n",
    "### Next Steps\n",
    "\n",
    "+ Import airport delays per year by cause for Dallas/Fort Worth(DFW)\n",
    "+ Delays are categorized as being due to factors under:\n",
    "\n",
    "- Carrier Control\n",
    "- Air Traffic Control\n",
    "- Control (ATC) System Delays\n",
    "- Weather Security\n",
    "- Late Inbound Aircraft"
   ]
  },
  {
   "cell_type": "code",
   "execution_count": null,
   "id": "778b3201-5ea3-46c8-ac8d-6b2eaa871c30",
   "metadata": {},
   "outputs": [],
   "source": [
    "dfw = pd.read_csv('data/airport_delays.csv')"
   ]
  },
  {
   "cell_type": "code",
   "execution_count": null,
   "id": "404409a5-112c-40ff-a9b8-701c6a941984",
   "metadata": {},
   "outputs": [],
   "source": [
    "dfw.info()"
   ]
  },
  {
   "cell_type": "code",
   "execution_count": null,
   "id": "79204909-148b-4ca6-abcd-a50340515d68",
   "metadata": {},
   "outputs": [],
   "source": [
    "print(100 * dfw / dfw.values.sum())"
   ]
  },
  {
   "cell_type": "markdown",
   "id": "d1a026ed-2a60-4726-9a41-05289759516c",
   "metadata": {},
   "source": [
    "### Bar Charts\n",
    "\n",
    "+ Are a common visualization tool for displaying single categorical variables\n",
    "+ Categories are listed on the x-axis and frequencies or proportions on the y-axis"
   ]
  },
  {
   "cell_type": "code",
   "execution_count": null,
   "id": "f50426e4-031f-46ca-b99c-dd8d2a579111",
   "metadata": {},
   "outputs": [],
   "source": [
    "ax = dfw.T.plot.bar(figsize=(4, 4), legend=False)\n",
    "ax.set_xlabel('Cause of delay')\n",
    "ax.set_ylabel('Count')\n",
    "\n",
    "plt.tight_layout()\n",
    "plt.show();"
   ]
  },
  {
   "cell_type": "markdown",
   "id": "27b67682-c8ff-4386-bbc2-7fe77a98b204",
   "metadata": {},
   "source": [
    "### Correlation\n",
    "\n",
    "+ The process of establishing a relationship or connection between two or more measures\n",
    "\n",
    "#### Key Terms for Correlation\n",
    "\n",
    "+ Correlation Coefficient: A matric that measures the extext to which numeric variables are associated with one another (ranges from -1 to +1)\n",
    "+ Correlation Matrix: A table where the variables are shown on both rows and columns, and the cell values are the correlations between the variables"
   ]
  },
  {
   "cell_type": "code",
   "execution_count": null,
   "id": "188c1b3d-aada-4955-843f-83a03e14322f",
   "metadata": {},
   "outputs": [],
   "source": [
    "# reading in sp_500 data csv\n",
    "sp_data = pd.read_csv('data/sp500_data.csv', index_col = 0)\n",
    "\n",
    "# reading in sp_sectors csv\n",
    "sp_sec = pd.read_csv('data/sp500_sectors.csv')"
   ]
  },
  {
   "cell_type": "code",
   "execution_count": null,
   "id": "b4ee3d74-e25d-4966-9aa1-0e18829354cb",
   "metadata": {},
   "outputs": [],
   "source": [
    "# understanding the data landscape in sp_data\n",
    "sp_data.info()"
   ]
  },
  {
   "cell_type": "code",
   "execution_count": null,
   "id": "716ad73e-4874-49d4-9a5e-79a2acaae088",
   "metadata": {},
   "outputs": [],
   "source": [
    "# understanding the data landscape in sp_sec\n",
    "sp_sec.info()"
   ]
  },
  {
   "cell_type": "code",
   "execution_count": null,
   "id": "0683a494-9a5d-46f0-9332-235141fe4e8f",
   "metadata": {},
   "outputs": [],
   "source": [
    "# renaming first column from Unnamed: 0 to Date\n",
    "sp_data = sp_data.rename({\"Unnamed: 0\" : \"Date\"}, axis = 1)\n",
    "\n",
    "# switching Date to datetime\n",
    "# sp_data['Date'] = pd.to_datetime(sp_data['Date'])\n",
    "\n",
    "# looking at the first five rows of the dataset to ensure it worked\n",
    "sp_data.head(5)"
   ]
  },
  {
   "cell_type": "code",
   "execution_count": null,
   "id": "95661b1d-ee68-4e96-b9cf-36f92564bd49",
   "metadata": {},
   "outputs": [],
   "source": [
    "# looking at the first five records of the sector dataset\n",
    "sp_sec.head(5)"
   ]
  },
  {
   "cell_type": "code",
   "execution_count": null,
   "id": "ee51a6b0-1ff0-4b7e-9e39-899ba2a05b9a",
   "metadata": {},
   "outputs": [],
   "source": [
    "symbols = sp_sec[sp_sec['sector'] == 'telecommunications_services']['symbol']\n",
    "telecom = sp_data.loc[sp_data.index > '2012-07-01', symbols]\n",
    "telecom.corr()"
   ]
  }
 ],
 "metadata": {
  "kernelspec": {
   "display_name": "Python 3",
   "language": "python",
   "name": "python3"
  },
  "language_info": {
   "codemirror_mode": {
    "name": "ipython",
    "version": 3
   },
   "file_extension": ".py",
   "mimetype": "text/x-python",
   "name": "python",
   "nbconvert_exporter": "python",
   "pygments_lexer": "ipython3",
   "version": "3.8.8"
  }
 },
 "nbformat": 4,
 "nbformat_minor": 5
}
