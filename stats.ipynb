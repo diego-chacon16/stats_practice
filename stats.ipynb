{
 "cells": [
  {
   "cell_type": "markdown",
   "id": "da394313-7bf5-4c60-a76f-6a14cc9f236d",
   "metadata": {},
   "source": [
    "### Purpose:\n",
    "\n",
    "Using statistics, apply different calculations to measure insights such as:\n",
    "\n",
    "+ Countries that average the highest/lowest spending\n",
    "+ Countries above and below average\n",
    "+ Grouping coutries by percentiles\n",
    "\n",
    "What concepts will be practiced?\n",
    "\n",
    "+ Estimates of Location\n",
    "+ Estimates of Variability\n",
    "+ Exploring Data Distribution\n",
    "+ Binary and Categorical Data"
   ]
  },
  {
   "cell_type": "code",
   "execution_count": 1,
   "id": "c9fe384f-2999-48d9-b600-3801a8f43022",
   "metadata": {},
   "outputs": [
    {
     "data": {
      "text/html": [
       "<div>\n",
       "<style scoped>\n",
       "    .dataframe tbody tr th:only-of-type {\n",
       "        vertical-align: middle;\n",
       "    }\n",
       "\n",
       "    .dataframe tbody tr th {\n",
       "        vertical-align: top;\n",
       "    }\n",
       "\n",
       "    .dataframe thead th {\n",
       "        text-align: right;\n",
       "    }\n",
       "</style>\n",
       "<table border=\"1\" class=\"dataframe\">\n",
       "  <thead>\n",
       "    <tr style=\"text-align: right;\">\n",
       "      <th></th>\n",
       "      <th>Name</th>\n",
       "      <th>Population</th>\n",
       "      <th>Code</th>\n",
       "      <th>Type</th>\n",
       "      <th>Indicator Name</th>\n",
       "      <th>2016</th>\n",
       "      <th>2017</th>\n",
       "      <th>2018</th>\n",
       "    </tr>\n",
       "  </thead>\n",
       "  <tbody>\n",
       "    <tr>\n",
       "      <th>0</th>\n",
       "      <td>Afghanistan</td>\n",
       "      <td>38928346</td>\n",
       "      <td>AFG</td>\n",
       "      <td>Country</td>\n",
       "      <td>Military expenditure (current USD)</td>\n",
       "      <td>185878310</td>\n",
       "      <td>1.914071e+08</td>\n",
       "      <td>1.980863e+08</td>\n",
       "    </tr>\n",
       "    <tr>\n",
       "      <th>1</th>\n",
       "      <td>Angola</td>\n",
       "      <td>32866272</td>\n",
       "      <td>AGO</td>\n",
       "      <td>Country</td>\n",
       "      <td>Military expenditure (current USD)</td>\n",
       "      <td>2764054937</td>\n",
       "      <td>3.062873e+09</td>\n",
       "      <td>1.983614e+09</td>\n",
       "    </tr>\n",
       "    <tr>\n",
       "      <th>2</th>\n",
       "      <td>Albania</td>\n",
       "      <td>2877797</td>\n",
       "      <td>ALB</td>\n",
       "      <td>Country</td>\n",
       "      <td>Military expenditure (current USD)</td>\n",
       "      <td>130853163</td>\n",
       "      <td>1.443827e+08</td>\n",
       "      <td>1.804887e+08</td>\n",
       "    </tr>\n",
       "    <tr>\n",
       "      <th>3</th>\n",
       "      <td>Argentina</td>\n",
       "      <td>45195774</td>\n",
       "      <td>ARG</td>\n",
       "      <td>Country</td>\n",
       "      <td>Military expenditure (current USD)</td>\n",
       "      <td>4509647660</td>\n",
       "      <td>5.459644e+09</td>\n",
       "      <td>4.144992e+09</td>\n",
       "    </tr>\n",
       "    <tr>\n",
       "      <th>4</th>\n",
       "      <td>Armenia</td>\n",
       "      <td>2963243</td>\n",
       "      <td>ARM</td>\n",
       "      <td>Country</td>\n",
       "      <td>Military expenditure (current USD)</td>\n",
       "      <td>431396219</td>\n",
       "      <td>4.436104e+08</td>\n",
       "      <td>6.088546e+08</td>\n",
       "    </tr>\n",
       "  </tbody>\n",
       "</table>\n",
       "</div>"
      ],
      "text/plain": [
       "          Name  Population Code     Type                      Indicator Name  \\\n",
       "0  Afghanistan    38928346  AFG  Country  Military expenditure (current USD)   \n",
       "1       Angola    32866272  AGO  Country  Military expenditure (current USD)   \n",
       "2      Albania     2877797  ALB  Country  Military expenditure (current USD)   \n",
       "3    Argentina    45195774  ARG  Country  Military expenditure (current USD)   \n",
       "4      Armenia     2963243  ARM  Country  Military expenditure (current USD)   \n",
       "\n",
       "         2016          2017          2018  \n",
       "0   185878310  1.914071e+08  1.980863e+08  \n",
       "1  2764054937  3.062873e+09  1.983614e+09  \n",
       "2   130853163  1.443827e+08  1.804887e+08  \n",
       "3  4509647660  5.459644e+09  4.144992e+09  \n",
       "4   431396219  4.436104e+08  6.088546e+08  "
      ]
     },
     "execution_count": 1,
     "metadata": {},
     "output_type": "execute_result"
    }
   ],
   "source": [
    "import pandas as pd\n",
    "import numpy as np\n",
    "import scipy\n",
    "from scipy import stats\n",
    "\n",
    "df = pd.read_csv('data/military_expenditure.csv')\n",
    "df.head(5)"
   ]
  },
  {
   "cell_type": "code",
   "execution_count": 2,
   "id": "9c75e01a-e7d0-4d2a-8f5a-3a7c9bc7da75",
   "metadata": {},
   "outputs": [
    {
     "name": "stdout",
     "output_type": "stream",
     "text": [
      "<class 'pandas.core.frame.DataFrame'>\n",
      "RangeIndex: 153 entries, 0 to 152\n",
      "Data columns (total 8 columns):\n",
      " #   Column          Non-Null Count  Dtype  \n",
      "---  ------          --------------  -----  \n",
      " 0   Name            153 non-null    object \n",
      " 1   Population      153 non-null    int64  \n",
      " 2   Code            153 non-null    object \n",
      " 3   Type            153 non-null    object \n",
      " 4   Indicator Name  153 non-null    object \n",
      " 5   2016            153 non-null    int64  \n",
      " 6   2017            152 non-null    float64\n",
      " 7   2018            150 non-null    float64\n",
      "dtypes: float64(2), int64(2), object(4)\n",
      "memory usage: 9.7+ KB\n"
     ]
    }
   ],
   "source": [
    "df.info()"
   ]
  },
  {
   "cell_type": "code",
   "execution_count": 3,
   "id": "22d4ae12-33a9-42c0-82f0-bd1047ab6ef6",
   "metadata": {},
   "outputs": [
    {
     "data": {
      "text/html": [
       "<div>\n",
       "<style scoped>\n",
       "    .dataframe tbody tr th:only-of-type {\n",
       "        vertical-align: middle;\n",
       "    }\n",
       "\n",
       "    .dataframe tbody tr th {\n",
       "        vertical-align: top;\n",
       "    }\n",
       "\n",
       "    .dataframe thead th {\n",
       "        text-align: right;\n",
       "    }\n",
       "</style>\n",
       "<table border=\"1\" class=\"dataframe\">\n",
       "  <thead>\n",
       "    <tr style=\"text-align: right;\">\n",
       "      <th></th>\n",
       "      <th>count</th>\n",
       "      <th>mean</th>\n",
       "      <th>std</th>\n",
       "      <th>min</th>\n",
       "      <th>25%</th>\n",
       "      <th>50%</th>\n",
       "      <th>75%</th>\n",
       "      <th>max</th>\n",
       "    </tr>\n",
       "  </thead>\n",
       "  <tbody>\n",
       "    <tr>\n",
       "      <th>Population</th>\n",
       "      <td>153.0</td>\n",
       "      <td>4.963338e+07</td>\n",
       "      <td>1.652684e+08</td>\n",
       "      <td>98347.0</td>\n",
       "      <td>4.649658e+06</td>\n",
       "      <td>11402528.0</td>\n",
       "      <td>3.774215e+07</td>\n",
       "      <td>1.439324e+09</td>\n",
       "    </tr>\n",
       "    <tr>\n",
       "      <th>2016</th>\n",
       "      <td>153.0</td>\n",
       "      <td>1.059750e+10</td>\n",
       "      <td>5.236088e+10</td>\n",
       "      <td>0.0</td>\n",
       "      <td>1.376491e+08</td>\n",
       "      <td>552381264.0</td>\n",
       "      <td>4.357991e+09</td>\n",
       "      <td>6.000000e+11</td>\n",
       "    </tr>\n",
       "    <tr>\n",
       "      <th>2017</th>\n",
       "      <td>152.0</td>\n",
       "      <td>1.108994e+10</td>\n",
       "      <td>5.340760e+10</td>\n",
       "      <td>0.0</td>\n",
       "      <td>1.595742e+08</td>\n",
       "      <td>592642871.0</td>\n",
       "      <td>4.408412e+09</td>\n",
       "      <td>6.060000e+11</td>\n",
       "    </tr>\n",
       "    <tr>\n",
       "      <th>2018</th>\n",
       "      <td>150.0</td>\n",
       "      <td>1.181220e+10</td>\n",
       "      <td>5.757501e+10</td>\n",
       "      <td>0.0</td>\n",
       "      <td>2.005079e+08</td>\n",
       "      <td>697514650.0</td>\n",
       "      <td>4.714833e+09</td>\n",
       "      <td>6.490000e+11</td>\n",
       "    </tr>\n",
       "  </tbody>\n",
       "</table>\n",
       "</div>"
      ],
      "text/plain": [
       "            count          mean           std      min           25%  \\\n",
       "Population  153.0  4.963338e+07  1.652684e+08  98347.0  4.649658e+06   \n",
       "2016        153.0  1.059750e+10  5.236088e+10      0.0  1.376491e+08   \n",
       "2017        152.0  1.108994e+10  5.340760e+10      0.0  1.595742e+08   \n",
       "2018        150.0  1.181220e+10  5.757501e+10      0.0  2.005079e+08   \n",
       "\n",
       "                    50%           75%           max  \n",
       "Population   11402528.0  3.774215e+07  1.439324e+09  \n",
       "2016        552381264.0  4.357991e+09  6.000000e+11  \n",
       "2017        592642871.0  4.408412e+09  6.060000e+11  \n",
       "2018        697514650.0  4.714833e+09  6.490000e+11  "
      ]
     },
     "execution_count": 3,
     "metadata": {},
     "output_type": "execute_result"
    }
   ],
   "source": [
    "round(df.describe().T,2)"
   ]
  },
  {
   "cell_type": "markdown",
   "id": "2fcc7b95-34d4-4a4d-9a76-74586d3db5b4",
   "metadata": {},
   "source": [
    "## Calculating Different Estimates of Location\n",
    "\n",
    "### For the first exercise, will use the year 2016\n",
    "\n",
    "#### Mean \n",
    "+ Sum of all values divided by the number of values\n",
    "\n",
    "#### Median\n",
    "+ (50th Percentile) The value where such value of the data is above, and the other half below\n",
    "\n",
    "### Trimmed Mean\n",
    "+ The average of all values after dropping a fixed set of extreme values\n",
    "\n",
    "### Weighted Mean\n",
    "+ The sum of all values times a weight divided by the sum of the weights"
   ]
  },
  {
   "cell_type": "code",
   "execution_count": 4,
   "id": "01674225-20e7-413f-bfe4-a045d1391173",
   "metadata": {},
   "outputs": [
    {
     "name": "stderr",
     "output_type": "stream",
     "text": [
      "<ipython-input-4-960ab9f86c67>:2: SettingWithCopyWarning: \n",
      "A value is trying to be set on a copy of a slice from a DataFrame.\n",
      "Try using .loc[row_indexer,col_indexer] = value instead\n",
      "\n",
      "See the caveats in the documentation: https://pandas.pydata.org/pandas-docs/stable/user_guide/indexing.html#returning-a-view-versus-a-copy\n",
      "  year_2016['2016'] = year_2016['2016'].fillna(0)\n"
     ]
    },
    {
     "data": {
      "text/html": [
       "<div>\n",
       "<style scoped>\n",
       "    .dataframe tbody tr th:only-of-type {\n",
       "        vertical-align: middle;\n",
       "    }\n",
       "\n",
       "    .dataframe tbody tr th {\n",
       "        vertical-align: top;\n",
       "    }\n",
       "\n",
       "    .dataframe thead th {\n",
       "        text-align: right;\n",
       "    }\n",
       "</style>\n",
       "<table border=\"1\" class=\"dataframe\">\n",
       "  <thead>\n",
       "    <tr style=\"text-align: right;\">\n",
       "      <th></th>\n",
       "      <th>Name</th>\n",
       "      <th>Population</th>\n",
       "      <th>Code</th>\n",
       "      <th>2016</th>\n",
       "    </tr>\n",
       "  </thead>\n",
       "  <tbody>\n",
       "    <tr>\n",
       "      <th>0</th>\n",
       "      <td>Afghanistan</td>\n",
       "      <td>38928346</td>\n",
       "      <td>AFG</td>\n",
       "      <td>185878310</td>\n",
       "    </tr>\n",
       "    <tr>\n",
       "      <th>1</th>\n",
       "      <td>Angola</td>\n",
       "      <td>32866272</td>\n",
       "      <td>AGO</td>\n",
       "      <td>2764054937</td>\n",
       "    </tr>\n",
       "    <tr>\n",
       "      <th>2</th>\n",
       "      <td>Albania</td>\n",
       "      <td>2877797</td>\n",
       "      <td>ALB</td>\n",
       "      <td>130853163</td>\n",
       "    </tr>\n",
       "    <tr>\n",
       "      <th>3</th>\n",
       "      <td>Argentina</td>\n",
       "      <td>45195774</td>\n",
       "      <td>ARG</td>\n",
       "      <td>4509647660</td>\n",
       "    </tr>\n",
       "    <tr>\n",
       "      <th>4</th>\n",
       "      <td>Armenia</td>\n",
       "      <td>2963243</td>\n",
       "      <td>ARM</td>\n",
       "      <td>431396219</td>\n",
       "    </tr>\n",
       "  </tbody>\n",
       "</table>\n",
       "</div>"
      ],
      "text/plain": [
       "          Name  Population Code        2016\n",
       "0  Afghanistan    38928346  AFG   185878310\n",
       "1       Angola    32866272  AGO  2764054937\n",
       "2      Albania     2877797  ALB   130853163\n",
       "3    Argentina    45195774  ARG  4509647660\n",
       "4      Armenia     2963243  ARM   431396219"
      ]
     },
     "execution_count": 4,
     "metadata": {},
     "output_type": "execute_result"
    }
   ],
   "source": [
    "year_2016 = df[['Name', 'Population','Code', '2016']]\n",
    "year_2016['2016'] = year_2016['2016'].fillna(0)\n",
    "year_2016.head(5)"
   ]
  },
  {
   "cell_type": "code",
   "execution_count": 5,
   "id": "c8e8d1cb-c55c-4eff-82a4-1effd6e5beb5",
   "metadata": {},
   "outputs": [
    {
     "data": {
      "text/plain": [
       "10597496483.98"
      ]
     },
     "execution_count": 5,
     "metadata": {},
     "output_type": "execute_result"
    }
   ],
   "source": [
    "mean_spend = round(year_2016['2016'].mean(), 2)\n",
    "mean_spend"
   ]
  },
  {
   "cell_type": "code",
   "execution_count": 6,
   "id": "e06b650c-86a1-441a-8575-b06e6364365b",
   "metadata": {},
   "outputs": [
    {
     "data": {
      "text/plain": [
       "552381264.0"
      ]
     },
     "execution_count": 6,
     "metadata": {},
     "output_type": "execute_result"
    }
   ],
   "source": [
    "median_spend = round(year_2016['2016'].median(), 2)\n",
    "median_spend"
   ]
  },
  {
   "cell_type": "code",
   "execution_count": 7,
   "id": "dcd27c41-f525-4659-8a93-cd8505e3d0df",
   "metadata": {},
   "outputs": [
    {
     "data": {
      "text/plain": [
       "2226828354.13"
      ]
     },
     "execution_count": 7,
     "metadata": {},
     "output_type": "execute_result"
    }
   ],
   "source": [
    "trim_mean_spend = round(stats.trim_mean(year_2016['2016'], 0.1),2)\n",
    "trim_mean_spend"
   ]
  },
  {
   "cell_type": "code",
   "execution_count": 8,
   "id": "dbe84e96-e682-4e0a-9fdb-d695cc4f31c1",
   "metadata": {},
   "outputs": [
    {
     "data": {
      "text/plain": [
       "84432394984.36955"
      ]
     },
     "execution_count": 8,
     "metadata": {},
     "output_type": "execute_result"
    }
   ],
   "source": [
    "weighted_mean = np.average(year_2016['2016'], weights = year_2016['Population'])\n",
    "weighted_mean"
   ]
  },
  {
   "cell_type": "markdown",
   "id": "c089f7ba-5ecf-44d1-82db-ceb8a656adf9",
   "metadata": {},
   "source": [
    "## Estimates of Variability \n",
    "\n",
    "### Deviations\n",
    "+ Measure that is used to find the difference betwen the observed value and the expected value of a variable. In other words, it is the distance from the centre point\n",
    "+ Value - mean of the data\n",
    "\n",
    "### Variance \n",
    "+ The sum of squared deviatons from the mean divided by n - 1 where n is the number of data values\n",
    "+ Sum of deviations/(count of data values - 1)\n",
    "\n",
    "### Standard Deviation\n",
    "+ The Square Root of the Variance\n",
    "\n",
    "### Mean Absolute Deviation\n",
    "+ The mean of the absolute values of the deviations from the mean\n",
    "\n",
    "### Percentile\n",
    "+ The value such that P percent of the values take on this value or less (100-P) percent to take on this value or more\n",
    "\n",
    "### Interquartile Range (IQR)\n",
    "+ The difference between the 75th percentile and the 25th percentile"
   ]
  },
  {
   "cell_type": "code",
   "execution_count": 9,
   "id": "fdb7157e-ff9b-4b13-832d-2ababe280d39",
   "metadata": {},
   "outputs": [
    {
     "data": {
      "text/plain": [
       "165268351.51"
      ]
     },
     "execution_count": 9,
     "metadata": {},
     "output_type": "execute_result"
    }
   ],
   "source": [
    "# calculating the standard deviation of the population\n",
    "\n",
    "std_deviation = round(df['Population'].std(),2)\n",
    "std_deviation"
   ]
  },
  {
   "cell_type": "code",
   "execution_count": 10,
   "id": "322a51e2-c183-4194-811b-4a2e70469a60",
   "metadata": {},
   "outputs": [
    {
     "data": {
      "text/plain": [
       "33092496.0"
      ]
     },
     "execution_count": 10,
     "metadata": {},
     "output_type": "execute_result"
    }
   ],
   "source": [
    "iqr = round(df['Population'].quantile(0.75) - df['Population'].quantile(0.25), 2)\n",
    "iqr"
   ]
  },
  {
   "cell_type": "code",
   "execution_count": 31,
   "id": "5ce75d8e-8e1b-4a61-b799-28e12bc6495f",
   "metadata": {},
   "outputs": [
    {
     "data": {
      "text/plain": [
       "59524147.87"
      ]
     },
     "execution_count": 31,
     "metadata": {},
     "output_type": "execute_result"
    }
   ],
   "source": [
    "# using numpy to find mean absolute deviation\n",
    "\n",
    "data = df['Population']\n",
    "mean = np.mean(data)\n",
    "abs_dev = np.absolute(data - mean)\n",
    "mad = round(np.mean(abs_dev), 2)\n",
    "mad"
   ]
  },
  {
   "cell_type": "code",
   "execution_count": 33,
   "id": "c2b50724-5ed2-403c-afda-83a1a6e77240",
   "metadata": {},
   "outputs": [
    {
     "data": {
      "text/plain": [
       "59524147.87"
      ]
     },
     "execution_count": 33,
     "metadata": {},
     "output_type": "execute_result"
    }
   ],
   "source": [
    "# now let's use pandas .mad() to see if we get the same answer\n",
    "\n",
    "p_mad = round(df['Population'].mad(), 2)\n",
    "p_mad"
   ]
  },
  {
   "cell_type": "code",
   "execution_count": null,
   "id": "e4c6e666-64fd-4913-b4da-7ec9b3830d2d",
   "metadata": {},
   "outputs": [],
   "source": []
  },
  {
   "cell_type": "code",
   "execution_count": null,
   "id": "27830460-2a3b-4091-8119-6d064a3b18b4",
   "metadata": {},
   "outputs": [],
   "source": []
  },
  {
   "cell_type": "code",
   "execution_count": null,
   "id": "c419b9fe-b321-454a-aa48-75829f66cd46",
   "metadata": {},
   "outputs": [],
   "source": []
  },
  {
   "cell_type": "code",
   "execution_count": null,
   "id": "c2df01ea-72c1-4c11-80d1-e82d26ba902c",
   "metadata": {},
   "outputs": [],
   "source": []
  }
 ],
 "metadata": {
  "kernelspec": {
   "display_name": "Python 3",
   "language": "python",
   "name": "python3"
  },
  "language_info": {
   "codemirror_mode": {
    "name": "ipython",
    "version": 3
   },
   "file_extension": ".py",
   "mimetype": "text/x-python",
   "name": "python",
   "nbconvert_exporter": "python",
   "pygments_lexer": "ipython3",
   "version": "3.8.8"
  }
 },
 "nbformat": 4,
 "nbformat_minor": 5
}
