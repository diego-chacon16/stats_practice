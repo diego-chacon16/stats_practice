{
 "cells": [
  {
   "cell_type": "markdown",
   "id": "da394313-7bf5-4c60-a76f-6a14cc9f236d",
   "metadata": {},
   "source": [
    "### Purpose:\n",
    "\n",
    "Using Descriptive Statistics, apply different calculations to measure insights such as:\n",
    "\n",
    "+ Countries that average the highest/lowest spending\n",
    "+ Countries above and below average\n",
    "+ Grouping coutries by percentiles\n",
    "+ More to add as the project progresses\n",
    "\n",
    "What concepts will be practiced?\n",
    "\n",
    "+ Estimates of Location\n",
    "+ Estimates of Variability\n",
    "+ Exploring Data Distribution\n",
    "+ Binary and Categorical Data"
   ]
  },
  {
   "cell_type": "code",
   "execution_count": 1,
   "id": "c9fe384f-2999-48d9-b600-3801a8f43022",
   "metadata": {},
   "outputs": [
    {
     "data": {
      "text/html": [
       "<div>\n",
       "<style scoped>\n",
       "    .dataframe tbody tr th:only-of-type {\n",
       "        vertical-align: middle;\n",
       "    }\n",
       "\n",
       "    .dataframe tbody tr th {\n",
       "        vertical-align: top;\n",
       "    }\n",
       "\n",
       "    .dataframe thead th {\n",
       "        text-align: right;\n",
       "    }\n",
       "</style>\n",
       "<table border=\"1\" class=\"dataframe\">\n",
       "  <thead>\n",
       "    <tr style=\"text-align: right;\">\n",
       "      <th></th>\n",
       "      <th>State</th>\n",
       "      <th>Population</th>\n",
       "      <th>Murder.Rate</th>\n",
       "      <th>Abbreviation</th>\n",
       "    </tr>\n",
       "  </thead>\n",
       "  <tbody>\n",
       "    <tr>\n",
       "      <th>0</th>\n",
       "      <td>Alabama</td>\n",
       "      <td>4779736</td>\n",
       "      <td>5.7</td>\n",
       "      <td>AL</td>\n",
       "    </tr>\n",
       "    <tr>\n",
       "      <th>1</th>\n",
       "      <td>Alaska</td>\n",
       "      <td>710231</td>\n",
       "      <td>5.6</td>\n",
       "      <td>AK</td>\n",
       "    </tr>\n",
       "    <tr>\n",
       "      <th>2</th>\n",
       "      <td>Arizona</td>\n",
       "      <td>6392017</td>\n",
       "      <td>4.7</td>\n",
       "      <td>AZ</td>\n",
       "    </tr>\n",
       "    <tr>\n",
       "      <th>3</th>\n",
       "      <td>Arkansas</td>\n",
       "      <td>2915918</td>\n",
       "      <td>5.6</td>\n",
       "      <td>AR</td>\n",
       "    </tr>\n",
       "    <tr>\n",
       "      <th>4</th>\n",
       "      <td>California</td>\n",
       "      <td>37253956</td>\n",
       "      <td>4.4</td>\n",
       "      <td>CA</td>\n",
       "    </tr>\n",
       "  </tbody>\n",
       "</table>\n",
       "</div>"
      ],
      "text/plain": [
       "        State  Population  Murder.Rate Abbreviation\n",
       "0     Alabama     4779736          5.7           AL\n",
       "1      Alaska      710231          5.6           AK\n",
       "2     Arizona     6392017          4.7           AZ\n",
       "3    Arkansas     2915918          5.6           AR\n",
       "4  California    37253956          4.4           CA"
      ]
     },
     "execution_count": 1,
     "metadata": {},
     "output_type": "execute_result"
    }
   ],
   "source": [
    "# importing libraries\n",
    "\n",
    "import pandas as pd\n",
    "import numpy as np\n",
    "import seaborn as sns\n",
    "import matplotlib.pyplot as plt\n",
    "\n",
    "import scipy\n",
    "from scipy import stats\n",
    "from scipy.stats import trim_mean\n",
    "from statsmodels import robust\n",
    "\n",
    "# reading in the csv\n",
    "df = pd.read_csv('data/state_csv.csv')\n",
    "df.head(5)"
   ]
  },
  {
   "cell_type": "code",
   "execution_count": 2,
   "id": "9c75e01a-e7d0-4d2a-8f5a-3a7c9bc7da75",
   "metadata": {},
   "outputs": [
    {
     "name": "stdout",
     "output_type": "stream",
     "text": [
      "<class 'pandas.core.frame.DataFrame'>\n",
      "RangeIndex: 50 entries, 0 to 49\n",
      "Data columns (total 4 columns):\n",
      " #   Column        Non-Null Count  Dtype  \n",
      "---  ------        --------------  -----  \n",
      " 0   State         50 non-null     object \n",
      " 1   Population    50 non-null     int64  \n",
      " 2   Murder.Rate   50 non-null     float64\n",
      " 3   Abbreviation  50 non-null     object \n",
      "dtypes: float64(1), int64(1), object(2)\n",
      "memory usage: 1.7+ KB\n"
     ]
    }
   ],
   "source": [
    "# understanding the dataset\n",
    "df.info()"
   ]
  },
  {
   "cell_type": "code",
   "execution_count": 3,
   "id": "22d4ae12-33a9-42c0-82f0-bd1047ab6ef6",
   "metadata": {},
   "outputs": [
    {
     "data": {
      "text/html": [
       "<div>\n",
       "<style scoped>\n",
       "    .dataframe tbody tr th:only-of-type {\n",
       "        vertical-align: middle;\n",
       "    }\n",
       "\n",
       "    .dataframe tbody tr th {\n",
       "        vertical-align: top;\n",
       "    }\n",
       "\n",
       "    .dataframe thead th {\n",
       "        text-align: right;\n",
       "    }\n",
       "</style>\n",
       "<table border=\"1\" class=\"dataframe\">\n",
       "  <thead>\n",
       "    <tr style=\"text-align: right;\">\n",
       "      <th></th>\n",
       "      <th>count</th>\n",
       "      <th>mean</th>\n",
       "      <th>std</th>\n",
       "      <th>min</th>\n",
       "      <th>25%</th>\n",
       "      <th>50%</th>\n",
       "      <th>75%</th>\n",
       "      <th>max</th>\n",
       "    </tr>\n",
       "  </thead>\n",
       "  <tbody>\n",
       "    <tr>\n",
       "      <th>Population</th>\n",
       "      <td>50.0</td>\n",
       "      <td>6162876.30</td>\n",
       "      <td>6848235.35</td>\n",
       "      <td>563626.0</td>\n",
       "      <td>1833004.25</td>\n",
       "      <td>4436369.5</td>\n",
       "      <td>6680312.25</td>\n",
       "      <td>37253956.0</td>\n",
       "    </tr>\n",
       "    <tr>\n",
       "      <th>Murder.Rate</th>\n",
       "      <td>50.0</td>\n",
       "      <td>4.07</td>\n",
       "      <td>1.92</td>\n",
       "      <td>0.9</td>\n",
       "      <td>2.42</td>\n",
       "      <td>4.0</td>\n",
       "      <td>5.55</td>\n",
       "      <td>10.3</td>\n",
       "    </tr>\n",
       "  </tbody>\n",
       "</table>\n",
       "</div>"
      ],
      "text/plain": [
       "             count        mean         std       min         25%        50%  \\\n",
       "Population    50.0  6162876.30  6848235.35  563626.0  1833004.25  4436369.5   \n",
       "Murder.Rate   50.0        4.07        1.92       0.9        2.42        4.0   \n",
       "\n",
       "                    75%         max  \n",
       "Population   6680312.25  37253956.0  \n",
       "Murder.Rate        5.55        10.3  "
      ]
     },
     "execution_count": 3,
     "metadata": {},
     "output_type": "execute_result"
    }
   ],
   "source": [
    "# rounding and transposing the basic descriptive analyics\n",
    "round(df.describe().T,2)"
   ]
  },
  {
   "cell_type": "markdown",
   "id": "2fcc7b95-34d4-4a4d-9a76-74586d3db5b4",
   "metadata": {},
   "source": [
    "## Calculating Different Estimates of Location\n",
    "\n",
    "### For the first exercise, will use the year 2016\n",
    "\n",
    "#### Mean \n",
    "+ Sum of all values divided by the number of values\n",
    "\n",
    "#### Median\n",
    "+ (50th Percentile) The value where such value of the data is above, and the other half below\n",
    "\n",
    "### Trimmed Mean\n",
    "+ The average of all values after dropping a fixed set of extreme values\n",
    "\n",
    "### Weighted Mean\n",
    "+ The sum of all values times a weight divided by the sum of the weights"
   ]
  },
  {
   "cell_type": "code",
   "execution_count": 4,
   "id": "01674225-20e7-413f-bfe4-a045d1391173",
   "metadata": {},
   "outputs": [
    {
     "data": {
      "text/html": [
       "<div>\n",
       "<style scoped>\n",
       "    .dataframe tbody tr th:only-of-type {\n",
       "        vertical-align: middle;\n",
       "    }\n",
       "\n",
       "    .dataframe tbody tr th {\n",
       "        vertical-align: top;\n",
       "    }\n",
       "\n",
       "    .dataframe thead th {\n",
       "        text-align: right;\n",
       "    }\n",
       "</style>\n",
       "<table border=\"1\" class=\"dataframe\">\n",
       "  <thead>\n",
       "    <tr style=\"text-align: right;\">\n",
       "      <th></th>\n",
       "      <th>State</th>\n",
       "      <th>Population</th>\n",
       "      <th>Murder Rate</th>\n",
       "      <th>Abbreviation</th>\n",
       "    </tr>\n",
       "  </thead>\n",
       "  <tbody>\n",
       "    <tr>\n",
       "      <th>0</th>\n",
       "      <td>Alabama</td>\n",
       "      <td>4779736</td>\n",
       "      <td>5.7</td>\n",
       "      <td>AL</td>\n",
       "    </tr>\n",
       "    <tr>\n",
       "      <th>1</th>\n",
       "      <td>Alaska</td>\n",
       "      <td>710231</td>\n",
       "      <td>5.6</td>\n",
       "      <td>AK</td>\n",
       "    </tr>\n",
       "    <tr>\n",
       "      <th>2</th>\n",
       "      <td>Arizona</td>\n",
       "      <td>6392017</td>\n",
       "      <td>4.7</td>\n",
       "      <td>AZ</td>\n",
       "    </tr>\n",
       "    <tr>\n",
       "      <th>3</th>\n",
       "      <td>Arkansas</td>\n",
       "      <td>2915918</td>\n",
       "      <td>5.6</td>\n",
       "      <td>AR</td>\n",
       "    </tr>\n",
       "    <tr>\n",
       "      <th>4</th>\n",
       "      <td>California</td>\n",
       "      <td>37253956</td>\n",
       "      <td>4.4</td>\n",
       "      <td>CA</td>\n",
       "    </tr>\n",
       "  </tbody>\n",
       "</table>\n",
       "</div>"
      ],
      "text/plain": [
       "        State  Population  Murder Rate Abbreviation\n",
       "0     Alabama     4779736          5.7           AL\n",
       "1      Alaska      710231          5.6           AK\n",
       "2     Arizona     6392017          4.7           AZ\n",
       "3    Arkansas     2915918          5.6           AR\n",
       "4  California    37253956          4.4           CA"
      ]
     },
     "execution_count": 4,
     "metadata": {},
     "output_type": "execute_result"
    }
   ],
   "source": [
    "# renaming the column Murder.Rate to Murder Rate\n",
    "df = df.rename({\"Murder.Rate\" : \"Murder Rate\"}, axis = 1)\n",
    "\n",
    "# looking at the first five columns to also ensure the renaming also worked\n",
    "df.head(5)"
   ]
  },
  {
   "cell_type": "code",
   "execution_count": 5,
   "id": "c8e8d1cb-c55c-4eff-82a4-1effd6e5beb5",
   "metadata": {},
   "outputs": [
    {
     "data": {
      "text/plain": [
       "6162876.3"
      ]
     },
     "execution_count": 5,
     "metadata": {},
     "output_type": "execute_result"
    }
   ],
   "source": [
    "# calculating the average\n",
    "mean_pop = round(df['Population'].mean(), 2)\n",
    "mean_pop"
   ]
  },
  {
   "cell_type": "code",
   "execution_count": 6,
   "id": "e06b650c-86a1-441a-8575-b06e6364365b",
   "metadata": {},
   "outputs": [
    {
     "data": {
      "text/plain": [
       "4436369.5"
      ]
     },
     "execution_count": 6,
     "metadata": {},
     "output_type": "execute_result"
    }
   ],
   "source": [
    "# calculating the median\n",
    "median_pop = round(df['Population'].median(), 2)\n",
    "median_pop"
   ]
  },
  {
   "cell_type": "code",
   "execution_count": 7,
   "id": "dcd27c41-f525-4659-8a93-cd8505e3d0df",
   "metadata": {},
   "outputs": [
    {
     "data": {
      "text/plain": [
       "4783697.12"
      ]
     },
     "execution_count": 7,
     "metadata": {},
     "output_type": "execute_result"
    }
   ],
   "source": [
    "# calculating the trimmed mean\n",
    "trim_mean_pop = round(stats.trim_mean(df['Population'], 0.1),2)\n",
    "trim_mean_pop"
   ]
  },
  {
   "cell_type": "code",
   "execution_count": 8,
   "id": "71233010-e6df-418e-8945-5c07bfe159d3",
   "metadata": {},
   "outputs": [
    {
     "data": {
      "text/plain": [
       "4783697.12"
      ]
     },
     "execution_count": 8,
     "metadata": {},
     "output_type": "execute_result"
    }
   ],
   "source": [
    "# calculating the trim mean in a different way to confirm it matches and it works\n",
    "tr_mean_2 = round(trim_mean(df['Population'], 0.1), 2)\n",
    "tr_mean_2"
   ]
  },
  {
   "cell_type": "code",
   "execution_count": 9,
   "id": "dbe84e96-e682-4e0a-9fdb-d695cc4f31c1",
   "metadata": {},
   "outputs": [
    {
     "data": {
      "text/plain": [
       "4.45"
      ]
     },
     "execution_count": 9,
     "metadata": {},
     "output_type": "execute_result"
    }
   ],
   "source": [
    "# calculating the weighted mean\n",
    "weighted_mean = round(np.average(df['Murder Rate'], weights = df['Population']),2)\n",
    "weighted_mean"
   ]
  },
  {
   "cell_type": "code",
   "execution_count": 10,
   "id": "23ae2977-d779-48b0-83de-ad4074d6830d",
   "metadata": {},
   "outputs": [
    {
     "data": {
      "text/plain": [
       "4.4"
      ]
     },
     "execution_count": 10,
     "metadata": {},
     "output_type": "execute_result"
    }
   ],
   "source": [
    "import wquantiles\n",
    "\n",
    "# calculating the weighted median\n",
    "weighted_median = round(wquantiles.median(df['Murder Rate'], weights = df['Population']), 2)\n",
    "weighted_median"
   ]
  },
  {
   "cell_type": "markdown",
   "id": "c089f7ba-5ecf-44d1-82db-ceb8a656adf9",
   "metadata": {},
   "source": [
    "## Estimates of Variability \n",
    "\n",
    "### Deviations\n",
    "+ Measure that is used to find the difference betwen the observed value and the expected value of a variable. In other words, it is the distance from the centre point\n",
    "+ Value - mean of the data\n",
    "\n",
    "### Variance \n",
    "+ The sum of squared deviatons from the mean divided by n - 1 where n is the number of data values\n",
    "+ Sum of deviations/(count of data values - 1)\n",
    "\n",
    "### Standard Deviation\n",
    "+ The Square Root of the Variance\n",
    "\n",
    "### Mean Absolute Deviation\n",
    "+ The mean of the absolute values of the deviations from the mean\n",
    "\n",
    "### Percentile\n",
    "+ The value such that P percent of the values take on this value or less (100-P) percent to take on this value or more\n",
    "\n",
    "### Interquartile Range (IQR)\n",
    "+ The difference between the 75th percentile and the 25th percentile"
   ]
  },
  {
   "cell_type": "code",
   "execution_count": 11,
   "id": "fdb7157e-ff9b-4b13-832d-2ababe280d39",
   "metadata": {},
   "outputs": [
    {
     "data": {
      "text/plain": [
       "6848235.35"
      ]
     },
     "execution_count": 11,
     "metadata": {},
     "output_type": "execute_result"
    }
   ],
   "source": [
    "# calculating the standard deviation of the population\n",
    "\n",
    "std_deviation = round(df['Population'].std(),2)\n",
    "std_deviation"
   ]
  },
  {
   "cell_type": "code",
   "execution_count": 12,
   "id": "322a51e2-c183-4194-811b-4a2e70469a60",
   "metadata": {},
   "outputs": [
    {
     "data": {
      "text/plain": [
       "4847308.0"
      ]
     },
     "execution_count": 12,
     "metadata": {},
     "output_type": "execute_result"
    }
   ],
   "source": [
    "# calculating the interquartile range of the population\n",
    "\n",
    "iqr = round(df['Population'].quantile(0.75) - df['Population'].quantile(0.25), 2)\n",
    "iqr"
   ]
  },
  {
   "cell_type": "code",
   "execution_count": 13,
   "id": "5ce75d8e-8e1b-4a61-b799-28e12bc6495f",
   "metadata": {},
   "outputs": [
    {
     "data": {
      "text/plain": [
       "4450933.36"
      ]
     },
     "execution_count": 13,
     "metadata": {},
     "output_type": "execute_result"
    }
   ],
   "source": [
    "# using numpy to find mean absolute deviation\n",
    "\n",
    "data = df['Population']\n",
    "mean = np.mean(data)\n",
    "abs_dev = np.absolute(data - mean)\n",
    "mad = round(np.mean(abs_dev), 2)\n",
    "mad"
   ]
  },
  {
   "cell_type": "code",
   "execution_count": 14,
   "id": "c2b50724-5ed2-403c-afda-83a1a6e77240",
   "metadata": {},
   "outputs": [
    {
     "data": {
      "text/plain": [
       "4450933.36"
      ]
     },
     "execution_count": 14,
     "metadata": {},
     "output_type": "execute_result"
    }
   ],
   "source": [
    "# now lets use pandas .mad() to see if we get the same answer\n",
    "\n",
    "p_mad = round(df['Population'].mad(), 2)\n",
    "p_mad"
   ]
  },
  {
   "cell_type": "markdown",
   "id": "f592785b-7114-46e3-ba6e-916d72b4ec27",
   "metadata": {},
   "source": [
    "### Percentiles"
   ]
  },
  {
   "cell_type": "code",
   "execution_count": 15,
   "id": "27830460-2a3b-4091-8119-6d064a3b18b4",
   "metadata": {},
   "outputs": [
    {
     "data": {
      "text/plain": [
       "0.05      689529.00\n",
       "0.25     1833004.25\n",
       "0.50     4436369.50\n",
       "0.75     6680312.25\n",
       "0.95    19118545.60\n",
       "Name: Population, dtype: float64"
      ]
     },
     "execution_count": 15,
     "metadata": {},
     "output_type": "execute_result"
    }
   ],
   "source": [
    "# percentiles of population by state\n",
    "\n",
    "df['Population'].quantile([0.05, 0.25, 0.5, 0.75, 0.95])"
   ]
  },
  {
   "cell_type": "code",
   "execution_count": 16,
   "id": "c419b9fe-b321-454a-aa48-75829f66cd46",
   "metadata": {},
   "outputs": [
    {
     "data": {
      "image/png": "[encoded data removed]",
      "text/plain": [
       "<Figure size 216x288 with 1 Axes>"
      ]
     },
     "metadata": {
      "needs_background": "light"
     },
     "output_type": "display_data"
    }
   ],
   "source": [
    "# creating a boxplot to visualize the distribution of population by state\n",
    "\n",
    "ax = (df['Population']/1_000_000).plot.box(figsize=(3, 4))\n",
    "ax.set_ylabel('Population (millions)')\n",
    "\n",
    "plt.tight_layout()\n",
    "plt.show();"
   ]
  },
  {
   "cell_type": "markdown",
   "id": "58d159bd-7048-4940-a9f7-20f523a37ba6",
   "metadata": {},
   "source": [
    "### Key Takeaways from the Boxplot above\n",
    "\n",
    "+ The horizontal line is the median which is close to 5 million\n",
    "+ The top and bottom half of the both are the 75th and the 25th percentile\n",
    "+ The line, also known as whiskers, at beginning at the start and ending at the top closer to 13 Million represent the range for the bulk of the data (excluding outliers)"
   ]
  },
  {
   "cell_type": "markdown",
   "id": "6d0e9ff4-5643-40f1-ae76-9cdb1c8eadf3",
   "metadata": {},
   "source": [
    "### Frequency Table and Histogram\n",
    "\n",
    "+ Divides up the variable range into equally spaced segments and tells us how many values fall within each segment\n",
    "+ The function pandas.cut() creates a series that maps the values into the segment\n",
    "+ Using the method value_counts() we can get the frequency tables"
   ]
  },
  {
   "cell_type": "code",
   "execution_count": 17,
   "id": "55b4016c-179a-40d9-957b-68edc96e42e4",
   "metadata": {},
   "outputs": [
    {
     "data": {
      "text/plain": [
       "(526935.67, 4232659.0]      24\n",
       "(4232659.0, 7901692.0]      14\n",
       "(7901692.0, 11570725.0]      6\n",
       "(11570725.0, 15239758.0]     2\n",
       "(15239758.0, 18908791.0]     1\n",
       "(18908791.0, 22577824.0]     1\n",
       "(22577824.0, 26246857.0]     1\n",
       "(33584923.0, 37253956.0]     1\n",
       "(26246857.0, 29915890.0]     0\n",
       "(29915890.0, 33584923.0]     0\n",
       "Name: Population, dtype: int64"
      ]
     },
     "execution_count": 17,
     "metadata": {},
     "output_type": "execute_result"
    }
   ],
   "source": [
    "binned_population = pd.cut(df['Population'],10)\n",
    "binned_population.value_counts()"
   ]
  },
  {
   "cell_type": "code",
   "execution_count": 18,
   "id": "de30e9e9-5cba-4173-b290-e5368753a472",
   "metadata": {},
   "outputs": [
    {
     "name": "stdout",
     "output_type": "stream",
     "text": [
      "                   BinRange  Count  \\\n",
      "0    (526935.67, 4232659.0]     24   \n",
      "1    (4232659.0, 7901692.0]     14   \n",
      "2   (7901692.0, 11570725.0]      6   \n",
      "3  (11570725.0, 15239758.0]      2   \n",
      "4  (15239758.0, 18908791.0]      1   \n",
      "5  (18908791.0, 22577824.0]      1   \n",
      "6  (22577824.0, 26246857.0]      1   \n",
      "7  (26246857.0, 29915890.0]      0   \n",
      "8  (29915890.0, 33584923.0]      0   \n",
      "9  (33584923.0, 37253956.0]      1   \n",
      "\n",
      "                                              States  \n",
      "0  WY,VT,ND,AK,SD,DE,MT,RI,NH,ME,HI,ID,NE,WV,NM,N...  \n",
      "1          KY,LA,SC,AL,CO,MN,WI,MD,MO,TN,AZ,IN,MA,WA  \n",
      "2                                  VA,NJ,NC,GA,MI,OH  \n",
      "3                                              PA,IL  \n",
      "4                                                 FL  \n",
      "5                                                 NY  \n",
      "6                                                 TX  \n",
      "7                                                     \n",
      "8                                                     \n",
      "9                                                 CA  \n"
     ]
    }
   ],
   "source": [
    "binned_population.name = 'binnedpopulation'\n",
    "df = pd.concat([df, binned_population], axis = 1)\n",
    "df = df.sort_values(by = 'Population')\n",
    "\n",
    "groups = []\n",
    "for group, subset in df.groupby(by='binnedpopulation'):\n",
    "    groups.append({\n",
    "        'BinRange': group,\n",
    "        'Count': len(subset),\n",
    "        'States': ','.join(subset.Abbreviation)\n",
    "    })\n",
    "print(pd.DataFrame(groups))"
   ]
  },
  {
   "cell_type": "markdown",
   "id": "94089c7c-b705-48a2-b324-79c73fefc9f0",
   "metadata": {},
   "source": [
    "### Takeaways\n",
    "\n",
    "+ The least populous state is Wyoming (Top Left) with 536,626 people \n",
    "+ The most populated state is California with 37,253,956 people\n",
    "+ This gives us a range of 37,253,956 - 536,626 which gives us 36,690,330 to divide into equal size bins\n",
    "\n",
    "### Next Steps\n",
    "\n",
    "+ Create a visual for the frequency table above"
   ]
  },
  {
   "cell_type": "code",
   "execution_count": 19,
   "id": "587a7cd4-db65-497b-9916-d3554a820004",
   "metadata": {},
   "outputs": [
    {
     "data": {
      "image/png": "[encoded data removed]",
      "text/plain": [
       "<Figure size 288x288 with 1 Axes>"
      ]
     },
     "metadata": {
      "needs_background": "light"
     },
     "output_type": "display_data"
    }
   ],
   "source": [
    "ax = (df['Population'] / 1_000_000).plot.hist(figsize = (4,4))\n",
    "ax.set_xlabel('Population (millions)')\n",
    "\n",
    "plt.tight_layout()\n",
    "plt.show();"
   ]
  },
  {
   "cell_type": "code",
   "execution_count": null,
   "id": "50bc712d-b560-482c-89ab-3513beb9460e",
   "metadata": {},
   "outputs": [],
   "source": []
  },
  {
   "cell_type": "code",
   "execution_count": null,
   "id": "22d0f075-4f24-4b39-bb6c-e9a25c9bd0d6",
   "metadata": {},
   "outputs": [],
   "source": []
  },
  {
   "cell_type": "code",
   "execution_count": null,
   "id": "62922076-5751-41ba-82db-a9764abeebca",
   "metadata": {},
   "outputs": [],
   "source": []
  }
 ],
 "metadata": {
  "kernelspec": {
   "display_name": "Python 3",
   "language": "python",
   "name": "python3"
  },
  "language_info": {
   "codemirror_mode": {
    "name": "ipython",
    "version": 3
   },
   "file_extension": ".py",
   "mimetype": "text/x-python",
   "name": "python",
   "nbconvert_exporter": "python",
   "pygments_lexer": "ipython3",
   "version": "3.8.8"
  }
 },
 "nbformat": 4,
 "nbformat_minor": 5
}
